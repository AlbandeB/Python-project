{
 "cells": [
  {
   "cell_type": "markdown",
   "metadata": {},
   "source": [
    "# Pipeline accident cost prediction"
   ]
  },
  {
   "cell_type": "markdown",
   "metadata": {},
   "source": [
    "**Objective: Cost study and cost prediction of a pipeline incident**"
   ]
  },
  {
   "cell_type": "markdown",
   "metadata": {},
   "source": [
    "**Abstract:** The database is listing all accidents reported in the USA from 2010 to 2017 with a wide range of qualitative and quantitative information such as pipeline type, location, operator ID, incurred cost for each incident. Amongst possible use cases of this data set, we are interested in predicting cost of an accident by using other feature variables available. Prior to modelling, some data retreatments are needed to improve the meaning of cost prediction and due to high number of NaN values in the dataset. We employ multiple models and compare their prediction accuracy to find what is the most suitable model to our objective.\n",
    "\n",
    "The source of the data set: https://www.kaggle.com/usdot/pipeline-accidents"
   ]
  },
  {
   "cell_type": "markdown",
   "metadata": {},
   "source": [
    "**Notebook Menu:**"
   ]
  },
  {
   "cell_type": "code",
   "execution_count": 88,
   "metadata": {
    "scrolled": false
   },
   "outputs": [
    {
     "data": {
      "text/html": [
       "<div id=\"my_id_menu_nb\">run previous cell, wait for 2 seconds</div>\n",
       "<script>\n",
       "function repeat_indent_string(n){\n",
       "    var a = \"\" ;\n",
       "    for ( ; n > 0 ; --n)\n",
       "        a += \"    \";\n",
       "    return a;\n",
       "}\n",
       "// look up into all sections and builds an automated menu //\n",
       "var update_menu_string = function(begin, lfirst, llast, sformat, send, keep_item, begin_format, end_format) {\n",
       "    var anchors = document.getElementsByClassName(\"section\");\n",
       "    if (anchors.length == 0) {\n",
       "        anchors = document.getElementsByClassName(\"text_cell_render rendered_html\");\n",
       "    }\n",
       "    var i,t;\n",
       "    var text_menu = begin;\n",
       "    var text_memo = \"<pre>\\nlength:\" + anchors.length + \"\\n\";\n",
       "    var ind = \"\";\n",
       "    var memo_level = 1;\n",
       "    var href;\n",
       "    var tags = [];\n",
       "    var main_item = 0;\n",
       "    var format_open = 0;\n",
       "    for (i = 0; i <= llast; i++)\n",
       "        tags.push(\"h\" + i);\n",
       "\n",
       "    for (i = 0; i < anchors.length; i++) {\n",
       "        text_memo += \"**\" + anchors[i].id + \"--\\n\";\n",
       "\n",
       "        var child = null;\n",
       "        for(t = 0; t < tags.length; t++) {\n",
       "            var r = anchors[i].getElementsByTagName(tags[t]);\n",
       "            if (r.length > 0) {\n",
       "child = r[0];\n",
       "break;\n",
       "            }\n",
       "        }\n",
       "        if (child == null) {\n",
       "            text_memo += \"null\\n\";\n",
       "            continue;\n",
       "        }\n",
       "        if (anchors[i].hasAttribute(\"id\")) {\n",
       "            // when converted in RST\n",
       "            href = anchors[i].id;\n",
       "            text_memo += \"#1-\" + href;\n",
       "            // passer à child suivant (le chercher)\n",
       "        }\n",
       "        else if (child.hasAttribute(\"id\")) {\n",
       "            // in a notebook\n",
       "            href = child.id;\n",
       "            text_memo += \"#2-\" + href;\n",
       "        }\n",
       "        else {\n",
       "            text_memo += \"#3-\" + \"*\" + \"\\n\";\n",
       "            continue;\n",
       "        }\n",
       "        var title = child.textContent;\n",
       "        var level = parseInt(child.tagName.substring(1,2));\n",
       "\n",
       "        text_memo += \"--\" + level + \"?\" + lfirst + \"--\" + title + \"\\n\";\n",
       "\n",
       "        if ((level < lfirst) || (level > llast)) {\n",
       "            continue ;\n",
       "        }\n",
       "        if (title.endsWith('¶')) {\n",
       "            title = title.substring(0,title.length-1).replace(\"<\", \"&lt;\")\n",
       "         .replace(\">\", \"&gt;\").replace(\"&\", \"&amp;\");\n",
       "        }\n",
       "        if (title.length == 0) {\n",
       "            continue;\n",
       "        }\n",
       "\n",
       "        while (level < memo_level) {\n",
       "            text_menu += end_format + \"</ul>\\n\";\n",
       "            format_open -= 1;\n",
       "            memo_level -= 1;\n",
       "        }\n",
       "        if (level == lfirst) {\n",
       "            main_item += 1;\n",
       "        }\n",
       "        if (keep_item != -1 && main_item != keep_item + 1) {\n",
       "            // alert(main_item + \" - \" + level + \" - \" + keep_item);\n",
       "            continue;\n",
       "        }\n",
       "        while (level > memo_level) {\n",
       "            text_menu += \"<ul>\\n\";\n",
       "            memo_level += 1;\n",
       "        }\n",
       "        text_menu += repeat_indent_string(level-2);\n",
       "        text_menu += begin_format + sformat.replace(\"__HREF__\", href).replace(\"__TITLE__\", title);\n",
       "        format_open += 1;\n",
       "    }\n",
       "    while (1 < memo_level) {\n",
       "        text_menu += end_format + \"</ul>\\n\";\n",
       "        memo_level -= 1;\n",
       "        format_open -= 1;\n",
       "    }\n",
       "    text_menu += send;\n",
       "    //text_menu += \"\\n\" + text_memo;\n",
       "\n",
       "    while (format_open > 0) {\n",
       "        text_menu += end_format;\n",
       "        format_open -= 1;\n",
       "    }\n",
       "    return text_menu;\n",
       "};\n",
       "var update_menu = function() {\n",
       "    var sbegin = \"\";\n",
       "    var sformat = '<a href=\"#__HREF__\">__TITLE__</a>';\n",
       "    var send = \"\";\n",
       "    var begin_format = '<li>';\n",
       "    var end_format = '</li>';\n",
       "    var keep_item = -1;\n",
       "    var text_menu = update_menu_string(sbegin, 2, 4, sformat, send, keep_item,\n",
       "       begin_format, end_format);\n",
       "    var menu = document.getElementById(\"my_id_menu_nb\");\n",
       "    menu.innerHTML=text_menu;\n",
       "};\n",
       "window.setTimeout(update_menu,2000);\n",
       "            </script>"
      ],
      "text/plain": [
       "<IPython.core.display.HTML object>"
      ]
     },
     "execution_count": 88,
     "metadata": {},
     "output_type": "execute_result"
    }
   ],
   "source": [
    "from jyquickhelper import add_notebook_menu\n",
    "add_notebook_menu()"
   ]
  },
  {
   "cell_type": "code",
   "execution_count": 89,
   "metadata": {},
   "outputs": [],
   "source": [
    "# Import basic libraries\n",
    "import numpy as np\n",
    "import pandas as pd\n",
    "from pandas.plotting import scatter_matrix\n",
    "import seaborn as sns\n",
    "import matplotlib.pyplot as plt\n",
    "%matplotlib inline"
   ]
  },
  {
   "cell_type": "markdown",
   "metadata": {},
   "source": [
    "## 1. Data Analysis"
   ]
  },
  {
   "cell_type": "markdown",
   "metadata": {},
   "source": [
    "### 1.1. Preliminary Data Preparation"
   ]
  },
  {
   "cell_type": "markdown",
   "metadata": {},
   "source": [
    "#### - Loading Data\n",
    "- We first load the data set. The dataset contains 2795 observations (incidents) and 48 columns in both numerical and categorical formats."
   ]
  },
  {
   "cell_type": "code",
   "execution_count": 90,
   "metadata": {},
   "outputs": [
    {
     "name": "stdout",
     "output_type": "stream",
     "text": [
      "(2795, 48)\n",
      "<class 'pandas.core.frame.DataFrame'>\n",
      "RangeIndex: 2795 entries, 0 to 2794\n",
      "Data columns (total 48 columns):\n",
      "Report Number                           2795 non-null int64\n",
      "Supplemental Number                     2795 non-null int64\n",
      "Accident Year                           2795 non-null int64\n",
      "Accident Date/Time                      2795 non-null object\n",
      "Operator ID                             2795 non-null int64\n",
      "Operator Name                           2795 non-null object\n",
      "Pipeline/Facility Name                  2674 non-null object\n",
      "Pipeline Location                       2795 non-null object\n",
      "Pipeline Type                           2777 non-null object\n",
      "Liquid Type                             2795 non-null object\n",
      "Liquid Subtype                          1349 non-null object\n",
      "Liquid Name                             222 non-null object\n",
      "Accident City                           2480 non-null object\n",
      "Accident County                         2720 non-null object\n",
      "Accident State                          2783 non-null object\n",
      "Accident Latitude                       2795 non-null float64\n",
      "Accident Longitude                      2795 non-null float64\n",
      "Cause Category                          2795 non-null object\n",
      "Cause Subcategory                       2795 non-null object\n",
      "Unintentional Release (Barrels)         2795 non-null float64\n",
      "Intentional Release (Barrels)           1209 non-null float64\n",
      "Liquid Recovery (Barrels)               2795 non-null float64\n",
      "Net Loss (Barrels)                      2795 non-null float64\n",
      "Liquid Ignition                         2795 non-null object\n",
      "Liquid Explosion                        2795 non-null object\n",
      "Pipeline Shutdown                       2583 non-null object\n",
      "Shutdown Date/Time                      1390 non-null object\n",
      "Restart Date/Time                       1341 non-null object\n",
      "Public Evacuations                      2338 non-null float64\n",
      "Operator Employee Injuries              12 non-null float64\n",
      "Operator Contractor Injuries            12 non-null float64\n",
      "Emergency Responder Injuries            12 non-null float64\n",
      "Other Injuries                          12 non-null float64\n",
      "Public Injuries                         12 non-null float64\n",
      "All Injuries                            12 non-null float64\n",
      "Operator Employee Fatalities            8 non-null float64\n",
      "Operator Contractor Fatalities          8 non-null float64\n",
      "Emergency Responder Fatalities          8 non-null float64\n",
      "Other Fatalities                        8 non-null float64\n",
      "Public Fatalities                       8 non-null float64\n",
      "All Fatalities                          8 non-null float64\n",
      "Property Damage Costs                   2788 non-null float64\n",
      "Lost Commodity Costs                    2791 non-null float64\n",
      "Public/Private Property Damage Costs    2785 non-null float64\n",
      "Emergency Response Costs                2789 non-null float64\n",
      "Environmental Remediation Costs         2787 non-null float64\n",
      "Other Costs                             2779 non-null float64\n",
      "All Costs                               2795 non-null int64\n",
      "dtypes: float64(25), int64(5), object(18)\n",
      "memory usage: 1.0+ MB\n",
      "None\n"
     ]
    }
   ],
   "source": [
    "path = './database.csv'\n",
    "df = pd.read_csv(path,delimiter=',')\n",
    "print(df.shape)\n",
    "print(df.info())"
   ]
  },
  {
   "cell_type": "markdown",
   "metadata": {},
   "source": [
    "#### - Columns selection based on NaN ratio\n",
    "- Since some of the columns contain mostly NaNs, we exclude such columns from the dataframe. As a result, 13 columns are removed."
   ]
  },
  {
   "cell_type": "code",
   "execution_count": 91,
   "metadata": {
    "scrolled": true
   },
   "outputs": [
    {
     "name": "stdout",
     "output_type": "stream",
     "text": [
      "(2795, 35)\n",
      "Removed columns are:\n",
      "Liquid Name\n",
      "Operator Employee Injuries\n",
      "Operator Contractor Injuries\n",
      "Emergency Responder Injuries\n",
      "Other Injuries\n",
      "Public Injuries\n",
      "All Injuries\n",
      "Operator Employee Fatalities\n",
      "Operator Contractor Fatalities\n",
      "Emergency Responder Fatalities\n",
      "Other Fatalities\n",
      "Public Fatalities\n",
      "All Fatalities\n"
     ]
    }
   ],
   "source": [
    "# Remove columns whose data is more than 90% NaNs\n",
    "mask = df.apply(lambda x: x.isna().sum()/len(x) < 0.9)\n",
    "mask = [mask[c] for c in range(len(mask))]\n",
    "df_reduced = df.loc[:, mask]\n",
    "\n",
    "# Number of columns reduced from 48 to 35\n",
    "print(df_reduced.shape)\n",
    "print(\"Removed columns are:\")\n",
    "for removed_colum in df.loc[:, np.invert(mask)].columns:\n",
    "    print (removed_colum)"
   ]
  },
  {
   "cell_type": "markdown",
   "metadata": {},
   "source": [
    "#### - Shutdown Duration column creation (in hours)\n",
    "- Using 'Shutdown Date/Time' and 'Restart Date/Time' columns, we create a new column that shows how long the pipeline was shutdown for each accident.\n",
    "- 1283 cases of accidents, out of 2795, caused a pipeline shutdown in the US between 2010 and 2017."
   ]
  },
  {
   "cell_type": "code",
   "execution_count": 92,
   "metadata": {
    "scrolled": true
   },
   "outputs": [
    {
     "name": "stdout",
     "output_type": "stream",
     "text": [
      "(2795, 36)\n"
     ]
    },
    {
     "data": {
      "text/plain": [
       "1283"
      ]
     },
     "execution_count": 92,
     "metadata": {},
     "output_type": "execute_result"
    }
   ],
   "source": [
    "df_reduced['Shutdown Duration'] = (pd.to_datetime(df_reduced['Restart Date/Time']) - pd.to_datetime(df_reduced['Shutdown Date/Time']))\\\n",
    ".astype('timedelta64[h]')\n",
    "df = df_reduced.fillna({'Shutdown Duration': 0})  # Convert NaNs into 0\n",
    "print(df.shape)\n",
    "\n",
    "# Non null Shutdown Durations\n",
    "(df['Shutdown Duration']!=0).sum()"
   ]
  },
  {
   "cell_type": "markdown",
   "metadata": {},
   "source": [
    "### 1.2. Data visualization\n",
    "- In this part, we visualize the data in order to better grab the characteristics of our data set."
   ]
  },
  {
   "cell_type": "markdown",
   "metadata": {},
   "source": [
    "#### - Operator ID and Operator Name"
   ]
  },
  {
   "cell_type": "markdown",
   "metadata": {},
   "source": [
    "- There are 213 different pipeline operators\n",
    "- Some Operator IDs have multiple Operator Names, which means that there were company name changes due to M&A, etc over the years."
   ]
  },
  {
   "cell_type": "code",
   "execution_count": 93,
   "metadata": {},
   "outputs": [
    {
     "name": "stdout",
     "output_type": "stream",
     "text": [
      "Number of distinct Operator ID: 213\n",
      "Number of distinct Operator Name: 229\n"
     ]
    }
   ],
   "source": [
    "print(\"Number of distinct Operator ID:\", len(df['Operator ID'].unique()))\n",
    "print(\"Number of distinct Operator Name:\", len(df['Operator Name'].unique()))"
   ]
  },
  {
   "cell_type": "markdown",
   "metadata": {},
   "source": [
    "#### - Top 10 largest accidents in terms of All Costs"
   ]
  },
  {
   "cell_type": "markdown",
   "metadata": {},
   "source": [
    "- From the statistics of All Costs, we can see that the cost of the worst accident during 2010-2017 is almost 6 times as high as the cost of the second-worst accident, which largely contributes to the high standard deviation of the values ($std = 16578300$)."
   ]
  },
  {
   "cell_type": "code",
   "execution_count": 94,
   "metadata": {},
   "outputs": [
    {
     "name": "stdout",
     "output_type": "stream",
     "text": [
      "Statistics of All Costs:\n",
      " count    2.795000e+03\n",
      "mean     8.340332e+05\n",
      "std      1.657830e+07\n",
      "min      0.000000e+00\n",
      "25%      5.039500e+03\n",
      "50%      2.312900e+04\n",
      "75%      1.172325e+05\n",
      "max      8.405261e+08\n",
      "Name: All Costs, dtype: float64\n",
      "\n",
      "Top 10 largest accidents in terms of All Costs and its operator:\n",
      "    index  All Costs                         Operator Name   Accident Date/Time\n",
      "0    194  840526118  ENBRIDGE ENERGY, LIMITED PARTNERSHIP    7/25/2010 5:58 PM\n",
      "1   2103  142931884                 PLAINS PIPELINE, L.P.   5/19/2015 10:57 AM\n",
      "2    523  135000000                EXXONMOBIL PIPELINE CO    7/1/2011 10:40 PM\n",
      "3   1173   91300000             MOBIL  PIPE  LINE COMPANY    3/29/2013 2:37 PM\n",
      "4   2675   66234072                  COLONIAL PIPELINE CO    9/9/2016 11:10 AM\n",
      "5    241   47393566  ENBRIDGE ENERGY, LIMITED PARTNERSHIP    9/9/2010 11:30 AM\n",
      "6    457   35728903                MARATHON PIPE LINE LLC    4/13/2011 6:58 PM\n",
      "7    160   32233740                  CHEVRON PIPE LINE CO    6/12/2010 7:42 AM\n",
      "8    133   28938000           ALYESKA PIPELINE SERVICE CO   5/25/2010 11:00 AM\n",
      "9   1833   24323483    CHEVRON PETROCHEMICAL PIPELINE LLC  10/10/2014 12:30 PM\n"
     ]
    }
   ],
   "source": [
    "# Statistics of All Costs\n",
    "print(\"Statistics of All Costs:\\n\", df['All Costs'].describe())\n",
    "print(\"\\nTop 10 largest accidents in terms of All Costs and its operator:\\n\"\\\n",
    "      , df.loc[:,['All Costs','Operator Name', 'Accident Date/Time']].sort_values(by='All Costs', ascending=False).head(10).reset_index())"
   ]
  },
  {
   "cell_type": "markdown",
   "metadata": {},
   "source": [
    "#### - Top 10 operators in terms of the number (frequency) of incidents"
   ]
  },
  {
   "cell_type": "code",
   "execution_count": 95,
   "metadata": {
    "scrolled": true
   },
   "outputs": [
    {
     "data": {
      "text/html": [
       "<div>\n",
       "<style scoped>\n",
       "    .dataframe tbody tr th:only-of-type {\n",
       "        vertical-align: middle;\n",
       "    }\n",
       "\n",
       "    .dataframe tbody tr th {\n",
       "        vertical-align: top;\n",
       "    }\n",
       "\n",
       "    .dataframe thead th {\n",
       "        text-align: right;\n",
       "    }\n",
       "</style>\n",
       "<table border=\"1\" class=\"dataframe\">\n",
       "  <thead>\n",
       "    <tr style=\"text-align: right;\">\n",
       "      <th></th>\n",
       "      <th>Number of Incidents</th>\n",
       "      <th>Operator Name</th>\n",
       "      <th>Operator ID</th>\n",
       "    </tr>\n",
       "  </thead>\n",
       "  <tbody>\n",
       "    <tr>\n",
       "      <th>0</th>\n",
       "      <td>201</td>\n",
       "      <td>TEPPCO CRUDE PIPELINE, LLC or ENTERPRISE CRUDE...</td>\n",
       "      <td>30829</td>\n",
       "    </tr>\n",
       "    <tr>\n",
       "      <th>1</th>\n",
       "      <td>180</td>\n",
       "      <td>SUNOCO PIPELINE L.P.</td>\n",
       "      <td>18718</td>\n",
       "    </tr>\n",
       "    <tr>\n",
       "      <th>2</th>\n",
       "      <td>156</td>\n",
       "      <td>PLAINS PIPELINE, L.P.</td>\n",
       "      <td>300</td>\n",
       "    </tr>\n",
       "    <tr>\n",
       "      <th>3</th>\n",
       "      <td>155</td>\n",
       "      <td>ENTERPRISE PRODUCTS OPERATING LLC</td>\n",
       "      <td>31618</td>\n",
       "    </tr>\n",
       "    <tr>\n",
       "      <th>4</th>\n",
       "      <td>140</td>\n",
       "      <td>MAGELLAN PIPELINE COMPANY, LP</td>\n",
       "      <td>22610</td>\n",
       "    </tr>\n",
       "    <tr>\n",
       "      <th>5</th>\n",
       "      <td>136</td>\n",
       "      <td>COLONIAL PIPELINE CO</td>\n",
       "      <td>2552</td>\n",
       "    </tr>\n",
       "    <tr>\n",
       "      <th>6</th>\n",
       "      <td>115</td>\n",
       "      <td>BUCKEYE PARTNERS, LP</td>\n",
       "      <td>1845</td>\n",
       "    </tr>\n",
       "    <tr>\n",
       "      <th>7</th>\n",
       "      <td>114</td>\n",
       "      <td>CONOCOPHILLIPS or PHILLIPS 66 PIPELINE LLC</td>\n",
       "      <td>31684</td>\n",
       "    </tr>\n",
       "    <tr>\n",
       "      <th>8</th>\n",
       "      <td>87</td>\n",
       "      <td>KINDER MORGAN LIQUID TERMINALS, LLC</td>\n",
       "      <td>26041</td>\n",
       "    </tr>\n",
       "    <tr>\n",
       "      <th>9</th>\n",
       "      <td>87</td>\n",
       "      <td>MARATHON PIPE LINE LLC</td>\n",
       "      <td>32147</td>\n",
       "    </tr>\n",
       "  </tbody>\n",
       "</table>\n",
       "</div>"
      ],
      "text/plain": [
       "   Number of Incidents                                      Operator Name  \\\n",
       "0                  201  TEPPCO CRUDE PIPELINE, LLC or ENTERPRISE CRUDE...   \n",
       "1                  180                               SUNOCO PIPELINE L.P.   \n",
       "2                  156                              PLAINS PIPELINE, L.P.   \n",
       "3                  155                  ENTERPRISE PRODUCTS OPERATING LLC   \n",
       "4                  140                      MAGELLAN PIPELINE COMPANY, LP   \n",
       "5                  136                               COLONIAL PIPELINE CO   \n",
       "6                  115                               BUCKEYE PARTNERS, LP   \n",
       "7                  114         CONOCOPHILLIPS or PHILLIPS 66 PIPELINE LLC   \n",
       "8                   87                KINDER MORGAN LIQUID TERMINALS, LLC   \n",
       "9                   87                             MARATHON PIPE LINE LLC   \n",
       "\n",
       "   Operator ID  \n",
       "0        30829  \n",
       "1        18718  \n",
       "2          300  \n",
       "3        31618  \n",
       "4        22610  \n",
       "5         2552  \n",
       "6         1845  \n",
       "7        31684  \n",
       "8        26041  \n",
       "9        32147  "
      ]
     },
     "execution_count": 95,
     "metadata": {},
     "output_type": "execute_result"
    }
   ],
   "source": [
    "df_count = df.groupby('Operator ID').size().nlargest(10).reset_index()\n",
    "df_count = df_count.rename(columns={0:'Number of Incidents'})\n",
    "name = []\n",
    "for id in df_count['Operator ID']:\n",
    "    name.append(\" or \".join(df['Operator Name'].loc[df['Operator ID'] == id].unique()))\n",
    "df_name = pd.DataFrame({'Operator Name': name})\n",
    "pd.concat([df_count, df_name], axis=1).ix[:,['Number of Incidents', 'Operator Name','Operator ID']]"
   ]
  },
  {
   "cell_type": "markdown",
   "metadata": {},
   "source": [
    "#### - Top 10 operators in terms of the total amount of All Costs thoughout 2010-2017"
   ]
  },
  {
   "cell_type": "code",
   "execution_count": 96,
   "metadata": {
    "scrolled": true
   },
   "outputs": [
    {
     "data": {
      "text/html": [
       "<div>\n",
       "<style scoped>\n",
       "    .dataframe tbody tr th:only-of-type {\n",
       "        vertical-align: middle;\n",
       "    }\n",
       "\n",
       "    .dataframe tbody tr th {\n",
       "        vertical-align: top;\n",
       "    }\n",
       "\n",
       "    .dataframe thead th {\n",
       "        text-align: right;\n",
       "    }\n",
       "</style>\n",
       "<table border=\"1\" class=\"dataframe\">\n",
       "  <thead>\n",
       "    <tr style=\"text-align: right;\">\n",
       "      <th></th>\n",
       "      <th>All Costs</th>\n",
       "      <th>Operator Name</th>\n",
       "      <th>Operator ID</th>\n",
       "    </tr>\n",
       "  </thead>\n",
       "  <tbody>\n",
       "    <tr>\n",
       "      <th>0</th>\n",
       "      <td>918465669</td>\n",
       "      <td>ENBRIDGE ENERGY, LIMITED PARTNERSHIP</td>\n",
       "      <td>11169</td>\n",
       "    </tr>\n",
       "    <tr>\n",
       "      <th>1</th>\n",
       "      <td>169708804</td>\n",
       "      <td>PLAINS PIPELINE, L.P.</td>\n",
       "      <td>300</td>\n",
       "    </tr>\n",
       "    <tr>\n",
       "      <th>2</th>\n",
       "      <td>148971955</td>\n",
       "      <td>EXXONMOBIL PIPELINE CO</td>\n",
       "      <td>4906</td>\n",
       "    </tr>\n",
       "    <tr>\n",
       "      <th>3</th>\n",
       "      <td>108248631</td>\n",
       "      <td>COLONIAL PIPELINE CO</td>\n",
       "      <td>2552</td>\n",
       "    </tr>\n",
       "    <tr>\n",
       "      <th>4</th>\n",
       "      <td>102672298</td>\n",
       "      <td>CHEVRON PIPE LINE CO</td>\n",
       "      <td>2731</td>\n",
       "    </tr>\n",
       "    <tr>\n",
       "      <th>5</th>\n",
       "      <td>91872625</td>\n",
       "      <td>EXXONMOBIL PIPELINE CO or MOBIL  PIPE  LINE CO...</td>\n",
       "      <td>12628</td>\n",
       "    </tr>\n",
       "    <tr>\n",
       "      <th>6</th>\n",
       "      <td>70475582</td>\n",
       "      <td>MARATHON PIPE LINE LLC</td>\n",
       "      <td>32147</td>\n",
       "    </tr>\n",
       "    <tr>\n",
       "      <th>7</th>\n",
       "      <td>50307083</td>\n",
       "      <td>WEST SHORE PIPELINE CO</td>\n",
       "      <td>22430</td>\n",
       "    </tr>\n",
       "    <tr>\n",
       "      <th>8</th>\n",
       "      <td>48836519</td>\n",
       "      <td>ALYESKA PIPELINE SERVICE CO</td>\n",
       "      <td>26149</td>\n",
       "    </tr>\n",
       "    <tr>\n",
       "      <th>9</th>\n",
       "      <td>48271931</td>\n",
       "      <td>SHELL PIPELINE CO., L.P.</td>\n",
       "      <td>31174</td>\n",
       "    </tr>\n",
       "  </tbody>\n",
       "</table>\n",
       "</div>"
      ],
      "text/plain": [
       "   All Costs                                      Operator Name  Operator ID\n",
       "0  918465669               ENBRIDGE ENERGY, LIMITED PARTNERSHIP        11169\n",
       "1  169708804                              PLAINS PIPELINE, L.P.          300\n",
       "2  148971955                             EXXONMOBIL PIPELINE CO         4906\n",
       "3  108248631                               COLONIAL PIPELINE CO         2552\n",
       "4  102672298                               CHEVRON PIPE LINE CO         2731\n",
       "5   91872625  EXXONMOBIL PIPELINE CO or MOBIL  PIPE  LINE CO...        12628\n",
       "6   70475582                             MARATHON PIPE LINE LLC        32147\n",
       "7   50307083                             WEST SHORE PIPELINE CO        22430\n",
       "8   48836519                        ALYESKA PIPELINE SERVICE CO        26149\n",
       "9   48271931                           SHELL PIPELINE CO., L.P.        31174"
      ]
     },
     "execution_count": 96,
     "metadata": {},
     "output_type": "execute_result"
    }
   ],
   "source": [
    "df_sum = df.groupby('Operator ID')['All Costs'].agg('sum').nlargest(10).reset_index()\n",
    "name=[]\n",
    "for id in df_sum['Operator ID']:\n",
    "    name.append(\" or \".join(df['Operator Name'].loc[df['Operator ID'] == id].unique()))\n",
    "df_name = pd.DataFrame({'Operator Name': name})\n",
    "pd.concat([df_sum, df_name], axis=1).ix[:,['All Costs', 'Operator Name','Operator ID']]"
   ]
  },
  {
   "cell_type": "markdown",
   "metadata": {},
   "source": [
    "#### - Distribution of Liquid Ignition and Liquid Explosion"
   ]
  },
  {
   "cell_type": "code",
   "execution_count": 97,
   "metadata": {
    "scrolled": true
   },
   "outputs": [
    {
     "name": "stdout",
     "output_type": "stream",
     "text": [
      "Liquid Explosion    NO  YES\n",
      "Liquid Ignition            \n",
      "NO                2700    0\n",
      "YES                 80   15\n"
     ]
    }
   ],
   "source": [
    "print(pd.crosstab(df['Liquid Ignition'], df['Liquid Explosion']))"
   ]
  },
  {
   "cell_type": "markdown",
   "metadata": {},
   "source": [
    "#### - Distribution of Cause Categories"
   ]
  },
  {
   "cell_type": "markdown",
   "metadata": {},
   "source": [
    "- Material/Weld/Equipment Failure was the cause of more than half of the accidents"
   ]
  },
  {
   "cell_type": "code",
   "execution_count": 98,
   "metadata": {},
   "outputs": [
    {
     "name": "stdout",
     "output_type": "stream",
     "text": [
      "MATERIAL/WELD/EQUIP FAILURE    1435\n",
      "CORROSION                       592\n",
      "INCORRECT OPERATION             378\n",
      "ALL OTHER CAUSES                118\n",
      "NATURAL FORCE DAMAGE            118\n",
      "EXCAVATION DAMAGE                97\n",
      "OTHER OUTSIDE FORCE DAMAGE       57\n",
      "Name: Cause Category, dtype: int64 \n",
      "\n",
      "count                            2795\n",
      "unique                              7\n",
      "top       MATERIAL/WELD/EQUIP FAILURE\n",
      "freq                             1435\n",
      "Name: Cause Category, dtype: object\n"
     ]
    }
   ],
   "source": [
    "print(df['Cause Category'].value_counts(), \"\\n\")\n",
    "print(df['Cause Category'].describe())"
   ]
  },
  {
   "cell_type": "markdown",
   "metadata": {},
   "source": [
    "#### - Distribution of Pipeline Types"
   ]
  },
  {
   "cell_type": "code",
   "execution_count": 99,
   "metadata": {},
   "outputs": [
    {
     "name": "stdout",
     "output_type": "stream",
     "text": [
      "ABOVEGROUND        1475\n",
      "UNDERGROUND         985\n",
      "TANK                301\n",
      "TRANSITION AREA      16\n",
      "Name: Pipeline Type, dtype: int64 \n",
      "\n",
      "count            2777\n",
      "unique              4\n",
      "top       ABOVEGROUND\n",
      "freq             1475\n",
      "Name: Pipeline Type, dtype: object\n"
     ]
    }
   ],
   "source": [
    "print(df[\"Pipeline Type\"].value_counts(), \"\\n\")\n",
    "print(df['Pipeline Type'].describe())"
   ]
  },
  {
   "cell_type": "code",
   "execution_count": 100,
   "metadata": {
    "scrolled": true
   },
   "outputs": [
    {
     "data": {
      "text/plain": [
       "Text(0.5,1,'Pipeline Type')"
      ]
     },
     "execution_count": 100,
     "metadata": {},
     "output_type": "execute_result"
    },
    {
     "data": {
      "image/png": "[encoded data removed]",
      "text/plain": [
       "<Figure size 432x288 with 1 Axes>"
      ]
     },
     "metadata": {
      "needs_background": "light"
     },
     "output_type": "display_data"
    }
   ],
   "source": [
    "sns.countplot(df['Pipeline Type'])\n",
    "plt.title('Pipeline Type')"
   ]
  },
  {
   "cell_type": "markdown",
   "metadata": {},
   "source": [
    "#### - Distribution of Liquid Types"
   ]
  },
  {
   "cell_type": "markdown",
   "metadata": {},
   "source": [
    "- Majority of liquid types in oil transportation are CRUDE OIL and REFINED AND/OR PETROLEUM PRODUCT."
   ]
  },
  {
   "cell_type": "code",
   "execution_count": 101,
   "metadata": {},
   "outputs": [
    {
     "name": "stdout",
     "output_type": "stream",
     "text": [
      "CRUDE OIL                                               1398\n",
      "REFINED AND/OR PETROLEUM PRODUCT (NON-HVL), LIQUID       939\n",
      "HVL OR OTHER FLAMMABLE OR TOXIC FLUID, GAS               418\n",
      "CO2 (CARBON DIOXIDE)                                      38\n",
      "BIOFUEL / ALTERNATIVE FUEL(INCLUDING ETHANOL BLENDS)       2\n",
      "Name: Liquid Type, dtype: int64 \n",
      "\n",
      "count          2795\n",
      "unique            5\n",
      "top       CRUDE OIL\n",
      "freq           1398\n",
      "Name: Liquid Type, dtype: object\n"
     ]
    }
   ],
   "source": [
    "print(df[\"Liquid Type\"].value_counts(), \"\\n\")\n",
    "print(df[\"Liquid Type\"].describe())"
   ]
  },
  {
   "cell_type": "code",
   "execution_count": 106,
   "metadata": {
    "scrolled": false
   },
   "outputs": [
    {
     "data": {
      "image/png": "[encoded data removed]",
      "text/plain": [
       "<Figure size 432x288 with 1 Axes>"
      ]
     },
     "metadata": {},
     "output_type": "display_data"
    }
   ],
   "source": [
    "Liquid_Type_count = df['Liquid Type'].value_counts()\n",
    "sns.set(style=\"darkgrid\")\n",
    "sns.barplot(Liquid_Type_count.index, Liquid_Type_count.values, alpha=0.9, errwidth=0.1)\n",
    "plt.title('Frequency Distribution of Liquid Type')\n",
    "plt.ylabel('Number of Occurrences', fontsize=12)\n",
    "plt.xlabel('Liquid Type', fontsize=12)\n",
    "plt.xticks(rotation=90)\n",
    "plt.show()"
   ]
  },
  {
   "cell_type": "markdown",
   "metadata": {},
   "source": [
    "#### - Distribution of Net Barrels Loss\n",
    "- Net Barrels Loss is less than 10 in more than 85% of cases, whereas a bunch of outliers exhibits extreme values (maximum >30000)."
   ]
  },
  {
   "cell_type": "code",
   "execution_count": 107,
   "metadata": {
    "scrolled": true
   },
   "outputs": [
    {
     "name": "stdout",
     "output_type": "stream",
     "text": [
      "2388\n"
     ]
    },
    {
     "data": {
      "image/png": "[encoded data removed]",
      "text/plain": [
       "<Figure size 432x288 with 1 Axes>"
      ]
     },
     "metadata": {},
     "output_type": "display_data"
    }
   ],
   "source": [
    "df.boxplot(column='Net Loss (Barrels)')\n",
    "plt.title('# Barrels Lost')\n",
    "print((df['Net Loss (Barrels)']<10).sum())"
   ]
  },
  {
   "cell_type": "markdown",
   "metadata": {},
   "source": [
    "#### - Distribution of Shutdown Duration\n",
    "- In most cases, the pipeline was recovered within 24 hours (75% percentile value is 18 hours).\n",
    "- However, there was an accident in 2012 that took more than 2 years to restart the pipeline."
   ]
  },
  {
   "cell_type": "code",
   "execution_count": 108,
   "metadata": {
    "scrolled": false
   },
   "outputs": [
    {
     "data": {
      "image/png": "[encoded data removed]",
      "text/plain": [
       "<Figure size 432x288 with 1 Axes>"
      ]
     },
     "metadata": {},
     "output_type": "display_data"
    },
    {
     "name": "stdout",
     "output_type": "stream",
     "text": [
      "The case that took more than 2 years to restart the pipeline:\n"
     ]
    },
    {
     "data": {
      "text/html": [
       "<div>\n",
       "<style scoped>\n",
       "    .dataframe tbody tr th:only-of-type {\n",
       "        vertical-align: middle;\n",
       "    }\n",
       "\n",
       "    .dataframe tbody tr th {\n",
       "        vertical-align: top;\n",
       "    }\n",
       "\n",
       "    .dataframe thead th {\n",
       "        text-align: right;\n",
       "    }\n",
       "</style>\n",
       "<table border=\"1\" class=\"dataframe\">\n",
       "  <thead>\n",
       "    <tr style=\"text-align: right;\">\n",
       "      <th></th>\n",
       "      <th>Shutdown Duration</th>\n",
       "      <th>Accident Date/Time</th>\n",
       "      <th>Restart Date/Time</th>\n",
       "      <th>Pipeline Type</th>\n",
       "      <th>Operator Name</th>\n",
       "    </tr>\n",
       "  </thead>\n",
       "  <tbody>\n",
       "    <tr>\n",
       "      <th>974</th>\n",
       "      <td>16746.0</td>\n",
       "      <td>10/7/2012 5:36 PM</td>\n",
       "      <td>9/5/2014 12:00</td>\n",
       "      <td>TANK</td>\n",
       "      <td>EXXONMOBIL PIPELINE CO</td>\n",
       "    </tr>\n",
       "  </tbody>\n",
       "</table>\n",
       "</div>"
      ],
      "text/plain": [
       "     Shutdown Duration Accident Date/Time Restart Date/Time Pipeline Type  \\\n",
       "974            16746.0  10/7/2012 5:36 PM    9/5/2014 12:00          TANK   \n",
       "\n",
       "              Operator Name  \n",
       "974  EXXONMOBIL PIPELINE CO  "
      ]
     },
     "execution_count": 108,
     "metadata": {},
     "output_type": "execute_result"
    }
   ],
   "source": [
    "df['Shutdown Duration'].describe(), df['Shutdown Duration'].loc[df['Shutdown Duration'] != 0].hist(bins=30)\n",
    "plt.show()\n",
    "print(\"The case that took more than 2 years to restart the pipeline:\")\n",
    "df.loc[:,['Shutdown Duration', 'Accident Date/Time', 'Restart Date/Time','Pipeline Type', 'Operator Name']].loc[df['Shutdown Duration'] == df['Shutdown Duration'].max()]"
   ]
  },
  {
   "cell_type": "markdown",
   "metadata": {},
   "source": [
    "#### - Yearly Analysis of All Costs\n",
    "- The level of the Total costs in 2010 is exceptionally high due to the largest accidents in our data set happened on 25th July 2010 by ENBRIDGE ENERGY, LIMITED PARTNERSHIP.\n",
    "- Number of accident is relatively stable year-on-year.\n",
    "- Since the last data (accident) is recorded on 9th January 2017, we have only two observations in 2017."
   ]
  },
  {
   "cell_type": "code",
   "execution_count": 109,
   "metadata": {
    "scrolled": false
   },
   "outputs": [
    {
     "data": {
      "image/png": "[encoded data removed]",
      "text/plain": [
       "<Figure size 432x288 with 1 Axes>"
      ]
     },
     "metadata": {},
     "output_type": "display_data"
    },
    {
     "data": {
      "image/png": "[encoded data removed]",
      "text/plain": [
       "<Figure size 432x288 with 1 Axes>"
      ]
     },
     "metadata": {},
     "output_type": "display_data"
    }
   ],
   "source": [
    "df.groupby(['Accident Year'])['All Costs'].sum().plot(title='Total All Costs of Accidents by Year')\n",
    "plt.show()\n",
    "df.groupby(['Accident Year'])['All Costs'].count().plot(title='Total Number of Accidents by Year')\n",
    "plt.show()"
   ]
  },
  {
   "cell_type": "markdown",
   "metadata": {},
   "source": [
    "#### - All Cost per Liquid Ignition/Explosion\n",
    "- Ignition or explosion of a liquid seems not lead to higher costs"
   ]
  },
  {
   "cell_type": "code",
   "execution_count": 110,
   "metadata": {},
   "outputs": [
    {
     "name": "stdout",
     "output_type": "stream",
     "text": [
      "Mean All Costs grouped by:\n",
      "Liquid Ignition\n",
      "NO     842947.114444\n",
      "YES    580691.726316\n",
      "Name: All Costs, dtype: float64\n",
      "Liquid Explosion\n",
      "NO     8.324311e+05\n",
      "YES    1.130972e+06\n",
      "Name: All Costs, dtype: float64\n",
      "\n",
      "Maximum All Costs grouped by:\n",
      "Liquid Ignition\n",
      "NO     840526118\n",
      "YES     10262149\n",
      "Name: All Costs, dtype: int64\n",
      "Liquid Explosion\n",
      "NO     840526118\n",
      "YES      6910591\n",
      "Name: All Costs, dtype: int64\n"
     ]
    }
   ],
   "source": [
    "print(\"Mean All Costs grouped by:\")\n",
    "print(df.groupby(['Liquid Ignition'])['All Costs'].mean())\n",
    "print(df.groupby(['Liquid Explosion'])['All Costs'].mean())\n",
    "print(\"\\nMaximum All Costs grouped by:\")\n",
    "print(df.groupby(['Liquid Ignition'])['All Costs'].max())\n",
    "print(df.groupby(['Liquid Explosion'])['All Costs'].max())"
   ]
  },
  {
   "cell_type": "markdown",
   "metadata": {},
   "source": [
    "#### - All Cost per Pipeline Type\n",
    "- Underground pipeline type rank second in number of accident but rank first in terms of cost, far ahead of other types. Black error bars are confidence intervals for each type of pipeline. If there are outliers, they stand in underground pipeline category"
   ]
  },
  {
   "cell_type": "code",
   "execution_count": 111,
   "metadata": {
    "scrolled": true
   },
   "outputs": [
    {
     "data": {
      "text/plain": [
       "Text(0.5,1,'Total costs per Pipeline Type')"
      ]
     },
     "execution_count": 111,
     "metadata": {},
     "output_type": "execute_result"
    },
    {
     "data": {
      "image/png": "[encoded data removed]",
      "text/plain": [
       "<Figure size 432x288 with 1 Axes>"
      ]
     },
     "metadata": {},
     "output_type": "display_data"
    }
   ],
   "source": [
    "df_PipeLine_Type_All_Cost = df[['Pipeline Type','All Costs']]\n",
    "sns.barplot(x='Pipeline Type', y=\"All Costs\",  data=df_PipeLine_Type_All_Cost)\n",
    "plt.title('Total costs per Pipeline Type')"
   ]
  },
  {
   "cell_type": "markdown",
   "metadata": {},
   "source": [
    "### 1.3. Outliers identification and costs structure plots\n",
    "- 5 outliers identified as per this plot"
   ]
  },
  {
   "cell_type": "code",
   "execution_count": 112,
   "metadata": {},
   "outputs": [
    {
     "name": "stdout",
     "output_type": "stream",
     "text": [
      "(2795, 36)\n"
     ]
    },
    {
     "data": {
      "image/png": "[encoded data removed]",
      "text/plain": [
       "<Figure size 432x288 with 1 Axes>"
      ]
     },
     "metadata": {},
     "output_type": "display_data"
    }
   ],
   "source": [
    "df['All Costs'].plot()\n",
    "print(df.shape)"
   ]
  },
  {
   "cell_type": "markdown",
   "metadata": {},
   "source": [
    "- Mean of accident costs is less than a million dollar. Lets focus on accident cost structure of top 25 (except outlier #1 for plot scale reason):"
   ]
  },
  {
   "cell_type": "code",
   "execution_count": 113,
   "metadata": {
    "scrolled": true
   },
   "outputs": [
    {
     "data": {
      "text/plain": [
       "Text(0.5,0,'Index')"
      ]
     },
     "execution_count": 113,
     "metadata": {},
     "output_type": "execute_result"
    },
    {
     "data": {
      "image/png": "[encoded data removed]",
      "text/plain": [
       "<Figure size 432x288 with 1 Axes>"
      ]
     },
     "metadata": {},
     "output_type": "display_data"
    }
   ],
   "source": [
    "b = df['All Costs'].sort_values(ascending=False) [:30]\n",
    "top25 = df.iloc[b.index[1:26], 28:-2]\n",
    "top25.plot.bar(stacked=True)\n",
    "plt.title('Accident Costs Structure')\n",
    "plt.ylabel('Cost', fontsize=12)\n",
    "plt.xlabel('Index', fontsize=12)"
   ]
  },
  {
   "cell_type": "markdown",
   "metadata": {},
   "source": [
    "- Emergency Response Costs represent the major part of costs structure of top 25 accidents, followed by Environmental remediation costs. Accident 1 is excluded of this graph for scaling matter; its' main costs were Environmental Remediation Costs and Emergency Response Costs respectively.\n",
    "\n",
    "- The below graph shows the sum of costs categories of all accidents.\n",
    "\n",
    "- The 3 main costs categories are Environmental Remediation Costs, Emergency Response Costs and Property Damage Costs."
   ]
  },
  {
   "cell_type": "code",
   "execution_count": 114,
   "metadata": {},
   "outputs": [
    {
     "name": "stdout",
     "output_type": "stream",
     "text": [
      "Property Damage Costs:                 313,081,992.0\n",
      "Environmental Remediation Costs:       1,011,149,910.0\n",
      "Emergency Response Costs:              814,084,371.0\n",
      "Lost Commodity Costs:                  27,366,589.0\n",
      "Public/Private Property Damage Costs:  69,964,627.0\n",
      "All Costs:                             2,331,122,923\n"
     ]
    }
   ],
   "source": [
    "print('Property Damage Costs:                ', \"{:,}\".format(df['Property Damage Costs'].sum()))\n",
    "print('Environmental Remediation Costs:      ', \"{:,}\".format(df['Environmental Remediation Costs'].sum()))\n",
    "print('Emergency Response Costs:             ', \"{:,}\".format(df['Emergency Response Costs'].sum()))\n",
    "print('Lost Commodity Costs:                 ', \"{:,}\".format(df['Lost Commodity Costs'].sum()))\n",
    "print('Public/Private Property Damage Costs: ', \"{:,}\".format(df['Public/Private Property Damage Costs'].sum()))\n",
    "print('All Costs:                            ', \"{:,}\".format(df['All Costs'].sum()))"
   ]
  },
  {
   "cell_type": "markdown",
   "metadata": {},
   "source": [
    "## 2. New Dataset for Machine Learning and Correlation Matrix"
   ]
  },
  {
   "cell_type": "markdown",
   "metadata": {},
   "source": [
    "### 2.1. Data adjustments and correlation matrix\n",
    "- Before going to automated feature selection, we manually select maximum number of possible features (columns) that can affect the cost.\n",
    "\n",
    "- We have selected 14 (+ 'All Costs') features out of 34 columns. For example, we ignore 'Liquid Subtype' because 'Liquid Type' should explain similar impact to the cost, and other columns because of similar reasons. In other words, we select **maximum number of the variables** that avoid multi-collinearity problem.\n",
    "\n",
    "- Later on, we become further selective on features to avoid the curse of dimensionality, and choose 8 most intuitive features instead of 13 to make cost prediction:\n",
    "Operator ID, Pipeline Type, Liquid Type, Cause Category, Net Loss (Barrels), Liquid Ignition, Liquid Explosion, Shutdown duration. **We name this dataset as X_intuitive.**"
   ]
  },
  {
   "cell_type": "code",
   "execution_count": 115,
   "metadata": {},
   "outputs": [
    {
     "name": "stdout",
     "output_type": "stream",
     "text": [
      "0 Report Number\n",
      "1 Supplemental Number\n",
      "\u001b[31m2 Accident Year\u001b[0m\n",
      "3 Accident Date/Time\n",
      "\u001b[31m4 Operator ID\u001b[0m\n",
      "5 Operator Name\n",
      "6 Pipeline/Facility Name\n",
      "\u001b[31m7 Pipeline Location\u001b[0m\n",
      "\u001b[31m8 Pipeline Type\u001b[0m\n",
      "\u001b[31m9 Liquid Type\u001b[0m\n",
      "10 Liquid Subtype\n",
      "11 Accident City\n",
      "12 Accident County\n",
      "\u001b[31m13 Accident State\u001b[0m\n",
      "\u001b[31m14 Accident Latitude\u001b[0m\n",
      "\u001b[31m15 Accident Longitude\u001b[0m\n",
      "\u001b[31m16 Cause Category\u001b[0m\n",
      "17 Cause Subcategory\n",
      "18 Unintentional Release (Barrels)\n",
      "19 Intentional Release (Barrels)\n",
      "20 Liquid Recovery (Barrels)\n",
      "\u001b[31m21 Net Loss (Barrels)\u001b[0m\n",
      "\u001b[31m22 Liquid Ignition\u001b[0m\n",
      "\u001b[31m23 Liquid Explosion\u001b[0m\n",
      "24 Pipeline Shutdown\n",
      "25 Shutdown Date/Time\n",
      "26 Restart Date/Time\n",
      "\u001b[31m27 Public Evacuations\u001b[0m\n",
      "28 Property Damage Costs\n",
      "29 Lost Commodity Costs\n",
      "30 Public/Private Property Damage Costs\n",
      "31 Emergency Response Costs\n",
      "32 Environmental Remediation Costs\n",
      "33 Other Costs\n",
      "\u001b[31m34 All Costs\u001b[0m\n",
      "\u001b[31m35 Shutdown Duration\u001b[0m\n"
     ]
    }
   ],
   "source": [
    "# Select columns to be used for prediction\n",
    "s = pd.Series([34,2,4,7,8,9,13,14,15,16,22,23,21,35, 27])\n",
    "\n",
    "# For X_intuitive dataset\n",
    "intuitive = pd.Series([4,8,9,16,21,22,23,35])\n",
    "features_intuitive = df.columns[intuitive]\n",
    "\n",
    "# Highlight the selected columns\n",
    "for col in range(len(df.columns)):\n",
    "    if col in list(s):\n",
    "        print(\"\\033[31m\" + str(col), df.columns[col] + \"\\033[0m\")\n",
    "    else:\n",
    "        print(col, df.columns[col])"
   ]
  },
  {
   "cell_type": "code",
   "execution_count": 116,
   "metadata": {
    "scrolled": true
   },
   "outputs": [
    {
     "name": "stdout",
     "output_type": "stream",
     "text": [
      "(2795, 15)\n"
     ]
    }
   ],
   "source": [
    "df_selected = df[df.columns[s[:,]]].copy()\n",
    "print(df_selected.shape)"
   ]
  },
  {
   "cell_type": "markdown",
   "metadata": {},
   "source": [
    "#### - Data replacement between Pipeline Type and Pipeline Location\n",
    "- Because all the observations that have NaN in Pipeline Type are Offshore-located. We replace those NaN type with the value 'OFFSHORE'."
   ]
  },
  {
   "cell_type": "code",
   "execution_count": 117,
   "metadata": {
    "scrolled": true
   },
   "outputs": [
    {
     "name": "stdout",
     "output_type": "stream",
     "text": [
      "pipeline type nans:  18\n",
      "18\n",
      "ONSHORE     2777\n",
      "OFFSHORE      18\n",
      "Name: Pipeline Location, dtype: int64\n"
     ]
    }
   ],
   "source": [
    "# There are 18 NaNs in Pipeline Type column\n",
    "print('pipeline type nans: ', df_selected[\"Pipeline Type\"].isna().sum())\n",
    "\n",
    "# All of those pipelines are located offshore \n",
    "print(sum(df_selected['Pipeline Location'][df_selected[\"Pipeline Type\"].isna()]=='OFFSHORE'))  # Count the number of Offshore pipelines out of the 18 observations\n",
    "print(df_selected[\"Pipeline Location\"].value_counts())\n",
    "\n",
    "# So We replace Pipeline Type = 'NaN' with 'Offshore'\n",
    "df_selected[\"Pipeline Type\"][df_selected[\"Pipeline Type\"].isna()]='OFFSHORE'\n",
    "df_selected[\"Pipeline Type\"].value_counts()\n",
    "\n",
    "# And we delete the column Pipeline location\n",
    "df_selected2 = df_selected.drop(columns=['Pipeline Location'])"
   ]
  },
  {
   "cell_type": "markdown",
   "metadata": {},
   "source": [
    "#### - Data replacement within Public Evacuations column\n",
    "- We replace NaN type with the value 0."
   ]
  },
  {
   "cell_type": "code",
   "execution_count": 118,
   "metadata": {},
   "outputs": [],
   "source": [
    "df_selected2['Public Evacuations'].describe()\n",
    "df_selected2 = df_selected2.fillna({'Public Evacuations': 0})"
   ]
  },
  {
   "cell_type": "markdown",
   "metadata": {},
   "source": [
    "#### - Creation of Log All Cost\n",
    "- Because of some relatively high values in costs to predict (Y variable) compared to it's mean, we create a 'Log All Cost' column to reduce extrem values and also increase correlation with explanatory variables.\n",
    "- The histogram of Log All Cost seems to be a Gaussian distribution."
   ]
  },
  {
   "cell_type": "code",
   "execution_count": 119,
   "metadata": {},
   "outputs": [
    {
     "name": "stdout",
     "output_type": "stream",
     "text": [
      "count    2795.000000\n",
      "mean       10.006837\n",
      "std         2.629996\n",
      "min         0.000000\n",
      "25%         8.525062\n",
      "50%        10.048843\n",
      "75%        11.671913\n",
      "max        20.549539\n",
      "Name: Log All Costs, dtype: float64\n"
     ]
    },
    {
     "data": {
      "text/plain": [
       "<matplotlib.axes._subplots.AxesSubplot at 0x126521f28>"
      ]
     },
     "execution_count": 119,
     "metadata": {},
     "output_type": "execute_result"
    },
    {
     "data": {
      "image/png": "[encoded data removed]",
      "text/plain": [
       "<Figure size 432x288 with 1 Axes>"
      ]
     },
     "metadata": {},
     "output_type": "display_data"
    }
   ],
   "source": [
    "# Take logarithm of All Cost\n",
    "LogAllCost = np.log(df_selected2['All Costs'])\n",
    "LogAllCost = LogAllCost.replace([np.inf, -np.inf], np.nan).fillna(0)  # Replace -inf with 0\n",
    "df_selected2['Log All Costs'] = LogAllCost\n",
    "\n",
    "print(df_selected2['Log All Costs'].describe())\n",
    "df_selected2['Log All Costs'].hist(bins=25)"
   ]
  },
  {
   "cell_type": "code",
   "execution_count": 120,
   "metadata": {
    "scrolled": false
   },
   "outputs": [
    {
     "name": "stdout",
     "output_type": "stream",
     "text": [
      "(2795, 15)\n"
     ]
    },
    {
     "data": {
      "text/html": [
       "<div>\n",
       "<style scoped>\n",
       "    .dataframe tbody tr th:only-of-type {\n",
       "        vertical-align: middle;\n",
       "    }\n",
       "\n",
       "    .dataframe tbody tr th {\n",
       "        vertical-align: top;\n",
       "    }\n",
       "\n",
       "    .dataframe thead th {\n",
       "        text-align: right;\n",
       "    }\n",
       "</style>\n",
       "<table border=\"1\" class=\"dataframe\">\n",
       "  <thead>\n",
       "    <tr style=\"text-align: right;\">\n",
       "      <th></th>\n",
       "      <th>All Costs</th>\n",
       "      <th>Accident Year</th>\n",
       "      <th>Operator ID</th>\n",
       "      <th>Pipeline Type</th>\n",
       "      <th>Liquid Type</th>\n",
       "      <th>Accident State</th>\n",
       "      <th>Accident Latitude</th>\n",
       "      <th>Accident Longitude</th>\n",
       "      <th>Cause Category</th>\n",
       "      <th>Liquid Ignition</th>\n",
       "      <th>Liquid Explosion</th>\n",
       "      <th>Net Loss (Barrels)</th>\n",
       "      <th>Shutdown Duration</th>\n",
       "      <th>Public Evacuations</th>\n",
       "      <th>Log All Costs</th>\n",
       "    </tr>\n",
       "  </thead>\n",
       "  <tbody>\n",
       "    <tr>\n",
       "      <th>0</th>\n",
       "      <td>1627</td>\n",
       "      <td>2010</td>\n",
       "      <td>32109</td>\n",
       "      <td>ABOVEGROUND</td>\n",
       "      <td>HVL OR OTHER FLAMMABLE OR TOXIC FLUID, GAS</td>\n",
       "      <td>KS</td>\n",
       "      <td>38.67070</td>\n",
       "      <td>-97.78123</td>\n",
       "      <td>INCORRECT OPERATION</td>\n",
       "      <td>NO</td>\n",
       "      <td>NO</td>\n",
       "      <td>21.0</td>\n",
       "      <td>0.0</td>\n",
       "      <td>0.0</td>\n",
       "      <td>7.394493</td>\n",
       "    </tr>\n",
       "    <tr>\n",
       "      <th>1</th>\n",
       "      <td>4008</td>\n",
       "      <td>2010</td>\n",
       "      <td>15786</td>\n",
       "      <td>ABOVEGROUND</td>\n",
       "      <td>CRUDE OIL</td>\n",
       "      <td>ME</td>\n",
       "      <td>43.94028</td>\n",
       "      <td>-70.49336</td>\n",
       "      <td>MATERIAL/WELD/EQUIP FAILURE</td>\n",
       "      <td>NO</td>\n",
       "      <td>NO</td>\n",
       "      <td>0.0</td>\n",
       "      <td>0.0</td>\n",
       "      <td>0.0</td>\n",
       "      <td>8.296048</td>\n",
       "    </tr>\n",
       "    <tr>\n",
       "      <th>2</th>\n",
       "      <td>200</td>\n",
       "      <td>2010</td>\n",
       "      <td>20160</td>\n",
       "      <td>ABOVEGROUND</td>\n",
       "      <td>HVL OR OTHER FLAMMABLE OR TOXIC FLUID, GAS</td>\n",
       "      <td>LA</td>\n",
       "      <td>30.18240</td>\n",
       "      <td>-93.35240</td>\n",
       "      <td>MATERIAL/WELD/EQUIP FAILURE</td>\n",
       "      <td>NO</td>\n",
       "      <td>NO</td>\n",
       "      <td>2.0</td>\n",
       "      <td>0.0</td>\n",
       "      <td>0.0</td>\n",
       "      <td>5.298317</td>\n",
       "    </tr>\n",
       "    <tr>\n",
       "      <th>3</th>\n",
       "      <td>11540</td>\n",
       "      <td>2010</td>\n",
       "      <td>11169</td>\n",
       "      <td>UNDERGROUND</td>\n",
       "      <td>CRUDE OIL</td>\n",
       "      <td>WI</td>\n",
       "      <td>46.68930</td>\n",
       "      <td>-92.06120</td>\n",
       "      <td>NATURAL FORCE DAMAGE</td>\n",
       "      <td>NO</td>\n",
       "      <td>NO</td>\n",
       "      <td>0.0</td>\n",
       "      <td>0.0</td>\n",
       "      <td>0.0</td>\n",
       "      <td>9.353575</td>\n",
       "    </tr>\n",
       "    <tr>\n",
       "      <th>4</th>\n",
       "      <td>29650</td>\n",
       "      <td>2010</td>\n",
       "      <td>300</td>\n",
       "      <td>UNDERGROUND</td>\n",
       "      <td>CRUDE OIL</td>\n",
       "      <td>TX</td>\n",
       "      <td>33.58266</td>\n",
       "      <td>-96.64881</td>\n",
       "      <td>EXCAVATION DAMAGE</td>\n",
       "      <td>NO</td>\n",
       "      <td>NO</td>\n",
       "      <td>2.0</td>\n",
       "      <td>0.0</td>\n",
       "      <td>0.0</td>\n",
       "      <td>10.297217</td>\n",
       "    </tr>\n",
       "  </tbody>\n",
       "</table>\n",
       "</div>"
      ],
      "text/plain": [
       "   All Costs  Accident Year  Operator ID Pipeline Type  \\\n",
       "0       1627           2010        32109   ABOVEGROUND   \n",
       "1       4008           2010        15786   ABOVEGROUND   \n",
       "2        200           2010        20160   ABOVEGROUND   \n",
       "3      11540           2010        11169   UNDERGROUND   \n",
       "4      29650           2010          300   UNDERGROUND   \n",
       "\n",
       "                                  Liquid Type Accident State  \\\n",
       "0  HVL OR OTHER FLAMMABLE OR TOXIC FLUID, GAS             KS   \n",
       "1                                   CRUDE OIL             ME   \n",
       "2  HVL OR OTHER FLAMMABLE OR TOXIC FLUID, GAS             LA   \n",
       "3                                   CRUDE OIL             WI   \n",
       "4                                   CRUDE OIL             TX   \n",
       "\n",
       "   Accident Latitude  Accident Longitude               Cause Category  \\\n",
       "0           38.67070           -97.78123          INCORRECT OPERATION   \n",
       "1           43.94028           -70.49336  MATERIAL/WELD/EQUIP FAILURE   \n",
       "2           30.18240           -93.35240  MATERIAL/WELD/EQUIP FAILURE   \n",
       "3           46.68930           -92.06120         NATURAL FORCE DAMAGE   \n",
       "4           33.58266           -96.64881            EXCAVATION DAMAGE   \n",
       "\n",
       "  Liquid Ignition Liquid Explosion  Net Loss (Barrels)  Shutdown Duration  \\\n",
       "0              NO               NO                21.0                0.0   \n",
       "1              NO               NO                 0.0                0.0   \n",
       "2              NO               NO                 2.0                0.0   \n",
       "3              NO               NO                 0.0                0.0   \n",
       "4              NO               NO                 2.0                0.0   \n",
       "\n",
       "   Public Evacuations  Log All Costs  \n",
       "0                 0.0       7.394493  \n",
       "1                 0.0       8.296048  \n",
       "2                 0.0       5.298317  \n",
       "3                 0.0       9.353575  \n",
       "4                 0.0      10.297217  "
      ]
     },
     "execution_count": 120,
     "metadata": {},
     "output_type": "execute_result"
    }
   ],
   "source": [
    "print(df_selected2.shape)\n",
    "df_selected2.head()"
   ]
  },
  {
   "cell_type": "markdown",
   "metadata": {},
   "source": [
    "#### - Correlation matrix\n",
    "- 'Log All Costs' are slightly correlated to Net loss (Barrels) and to shutdow Duration, but significantly more than 'All costs'. No strong correlation can be identified among the quantitative variables. We have at least orthogonality but we expect high error rate in our prediction model and/or weak R² if the regression is made only on these quantitative variables.\n",
    "- Increasing number of outliers and exclude them from dataset tends to strengthen correlation."
   ]
  },
  {
   "cell_type": "code",
   "execution_count": 123,
   "metadata": {},
   "outputs": [
    {
     "data": {
      "text/plain": [
       "<matplotlib.axes._subplots.AxesSubplot at 0x125f60fd0>"
      ]
     },
     "execution_count": 123,
     "metadata": {},
     "output_type": "execute_result"
    },
    {
     "data": {
      "image/png": "[encoded data removed]",
      "text/plain": [
       "<Figure size 432x288 with 2 Axes>"
      ]
     },
     "metadata": {},
     "output_type": "display_data"
    }
   ],
   "source": [
    "corr = df_selected2.corr()\n",
    "sns.heatmap(corr,\n",
    "            xticklabels=corr.columns.values,\n",
    "            yticklabels=corr.columns.values)"
   ]
  },
  {
   "cell_type": "code",
   "execution_count": 124,
   "metadata": {
    "scrolled": true
   },
   "outputs": [
    {
     "data": {
      "text/html": [
       "<div>\n",
       "<style scoped>\n",
       "    .dataframe tbody tr th:only-of-type {\n",
       "        vertical-align: middle;\n",
       "    }\n",
       "\n",
       "    .dataframe tbody tr th {\n",
       "        vertical-align: top;\n",
       "    }\n",
       "\n",
       "    .dataframe thead th {\n",
       "        text-align: right;\n",
       "    }\n",
       "</style>\n",
       "<table border=\"1\" class=\"dataframe\">\n",
       "  <thead>\n",
       "    <tr style=\"text-align: right;\">\n",
       "      <th></th>\n",
       "      <th>All Costs</th>\n",
       "      <th>Accident Year</th>\n",
       "      <th>Operator ID</th>\n",
       "      <th>Accident Latitude</th>\n",
       "      <th>Accident Longitude</th>\n",
       "      <th>Net Loss (Barrels)</th>\n",
       "      <th>Shutdown Duration</th>\n",
       "      <th>Public Evacuations</th>\n",
       "      <th>Log All Costs</th>\n",
       "    </tr>\n",
       "  </thead>\n",
       "  <tbody>\n",
       "    <tr>\n",
       "      <th>All Costs</th>\n",
       "      <td>2.748400e+14</td>\n",
       "      <td>-1.144180e+06</td>\n",
       "      <td>-6.160399e+09</td>\n",
       "      <td>3.315894e+06</td>\n",
       "      <td>1.326289e+06</td>\n",
       "      <td>1.216508e+09</td>\n",
       "      <td>6.666732e+08</td>\n",
       "      <td>3.236382e+07</td>\n",
       "      <td>6.474402e+06</td>\n",
       "    </tr>\n",
       "    <tr>\n",
       "      <th>Accident Year</th>\n",
       "      <td>-1.144180e+06</td>\n",
       "      <td>3.889186e+00</td>\n",
       "      <td>2.380026e+03</td>\n",
       "      <td>-5.218795e-01</td>\n",
       "      <td>-5.867873e-01</td>\n",
       "      <td>-1.562249e+01</td>\n",
       "      <td>-2.381257e+01</td>\n",
       "      <td>-8.956267e-01</td>\n",
       "      <td>-6.814515e-02</td>\n",
       "    </tr>\n",
       "    <tr>\n",
       "      <th>Operator ID</th>\n",
       "      <td>-6.160399e+09</td>\n",
       "      <td>2.380026e+03</td>\n",
       "      <td>1.545291e+08</td>\n",
       "      <td>-5.718499e+03</td>\n",
       "      <td>-2.146652e+04</td>\n",
       "      <td>5.834308e+05</td>\n",
       "      <td>3.108264e+04</td>\n",
       "      <td>-7.859723e+03</td>\n",
       "      <td>-2.738499e+03</td>\n",
       "    </tr>\n",
       "    <tr>\n",
       "      <th>Accident Latitude</th>\n",
       "      <td>3.315894e+06</td>\n",
       "      <td>-5.218795e-01</td>\n",
       "      <td>-5.718499e+03</td>\n",
       "      <td>3.195188e+01</td>\n",
       "      <td>-7.461077e-01</td>\n",
       "      <td>-1.181240e+01</td>\n",
       "      <td>-8.732440e+01</td>\n",
       "      <td>5.702388e-01</td>\n",
       "      <td>1.038993e+00</td>\n",
       "    </tr>\n",
       "    <tr>\n",
       "      <th>Accident Longitude</th>\n",
       "      <td>1.326289e+06</td>\n",
       "      <td>-5.867873e-01</td>\n",
       "      <td>-2.146652e+04</td>\n",
       "      <td>-7.461077e-01</td>\n",
       "      <td>1.519902e+02</td>\n",
       "      <td>2.109175e+02</td>\n",
       "      <td>7.989032e+01</td>\n",
       "      <td>2.664479e+00</td>\n",
       "      <td>8.272245e-01</td>\n",
       "    </tr>\n",
       "    <tr>\n",
       "      <th>Net Loss (Barrels)</th>\n",
       "      <td>1.216508e+09</td>\n",
       "      <td>-1.562249e+01</td>\n",
       "      <td>5.834308e+05</td>\n",
       "      <td>-1.181240e+01</td>\n",
       "      <td>2.109175e+02</td>\n",
       "      <td>1.404271e+06</td>\n",
       "      <td>4.949745e+04</td>\n",
       "      <td>1.771966e+03</td>\n",
       "      <td>4.871775e+02</td>\n",
       "    </tr>\n",
       "    <tr>\n",
       "      <th>Shutdown Duration</th>\n",
       "      <td>6.666732e+08</td>\n",
       "      <td>-2.381257e+01</td>\n",
       "      <td>3.108264e+04</td>\n",
       "      <td>-8.732440e+01</td>\n",
       "      <td>7.989032e+01</td>\n",
       "      <td>4.949745e+04</td>\n",
       "      <td>3.929177e+05</td>\n",
       "      <td>1.966889e+02</td>\n",
       "      <td>2.618888e+02</td>\n",
       "    </tr>\n",
       "    <tr>\n",
       "      <th>Public Evacuations</th>\n",
       "      <td>3.236382e+07</td>\n",
       "      <td>-8.956267e-01</td>\n",
       "      <td>-7.859723e+03</td>\n",
       "      <td>5.702388e-01</td>\n",
       "      <td>2.664479e+00</td>\n",
       "      <td>1.771966e+03</td>\n",
       "      <td>1.966889e+02</td>\n",
       "      <td>2.757102e+02</td>\n",
       "      <td>4.361056e+00</td>\n",
       "    </tr>\n",
       "    <tr>\n",
       "      <th>Log All Costs</th>\n",
       "      <td>6.474402e+06</td>\n",
       "      <td>-6.814515e-02</td>\n",
       "      <td>-2.738499e+03</td>\n",
       "      <td>1.038993e+00</td>\n",
       "      <td>8.272245e-01</td>\n",
       "      <td>4.871775e+02</td>\n",
       "      <td>2.618888e+02</td>\n",
       "      <td>4.361056e+00</td>\n",
       "      <td>6.916880e+00</td>\n",
       "    </tr>\n",
       "  </tbody>\n",
       "</table>\n",
       "</div>"
      ],
      "text/plain": [
       "                       All Costs  Accident Year   Operator ID  \\\n",
       "All Costs           2.748400e+14  -1.144180e+06 -6.160399e+09   \n",
       "Accident Year      -1.144180e+06   3.889186e+00  2.380026e+03   \n",
       "Operator ID        -6.160399e+09   2.380026e+03  1.545291e+08   \n",
       "Accident Latitude   3.315894e+06  -5.218795e-01 -5.718499e+03   \n",
       "Accident Longitude  1.326289e+06  -5.867873e-01 -2.146652e+04   \n",
       "Net Loss (Barrels)  1.216508e+09  -1.562249e+01  5.834308e+05   \n",
       "Shutdown Duration   6.666732e+08  -2.381257e+01  3.108264e+04   \n",
       "Public Evacuations  3.236382e+07  -8.956267e-01 -7.859723e+03   \n",
       "Log All Costs       6.474402e+06  -6.814515e-02 -2.738499e+03   \n",
       "\n",
       "                    Accident Latitude  Accident Longitude  Net Loss (Barrels)  \\\n",
       "All Costs                3.315894e+06        1.326289e+06        1.216508e+09   \n",
       "Accident Year           -5.218795e-01       -5.867873e-01       -1.562249e+01   \n",
       "Operator ID             -5.718499e+03       -2.146652e+04        5.834308e+05   \n",
       "Accident Latitude        3.195188e+01       -7.461077e-01       -1.181240e+01   \n",
       "Accident Longitude      -7.461077e-01        1.519902e+02        2.109175e+02   \n",
       "Net Loss (Barrels)      -1.181240e+01        2.109175e+02        1.404271e+06   \n",
       "Shutdown Duration       -8.732440e+01        7.989032e+01        4.949745e+04   \n",
       "Public Evacuations       5.702388e-01        2.664479e+00        1.771966e+03   \n",
       "Log All Costs            1.038993e+00        8.272245e-01        4.871775e+02   \n",
       "\n",
       "                    Shutdown Duration  Public Evacuations  Log All Costs  \n",
       "All Costs                6.666732e+08        3.236382e+07   6.474402e+06  \n",
       "Accident Year           -2.381257e+01       -8.956267e-01  -6.814515e-02  \n",
       "Operator ID              3.108264e+04       -7.859723e+03  -2.738499e+03  \n",
       "Accident Latitude       -8.732440e+01        5.702388e-01   1.038993e+00  \n",
       "Accident Longitude       7.989032e+01        2.664479e+00   8.272245e-01  \n",
       "Net Loss (Barrels)       4.949745e+04        1.771966e+03   4.871775e+02  \n",
       "Shutdown Duration        3.929177e+05        1.966889e+02   2.618888e+02  \n",
       "Public Evacuations       1.966889e+02        2.757102e+02   4.361056e+00  \n",
       "Log All Costs            2.618888e+02        4.361056e+00   6.916880e+00  "
      ]
     },
     "execution_count": 124,
     "metadata": {},
     "output_type": "execute_result"
    }
   ],
   "source": [
    "df_selected2.cov() # Covariance matrix is not easily readable"
   ]
  },
  {
   "cell_type": "code",
   "execution_count": 125,
   "metadata": {},
   "outputs": [],
   "source": [
    "newdf = df_selected2.copy()"
   ]
  },
  {
   "cell_type": "markdown",
   "metadata": {},
   "source": [
    "### 2.2. One-hot encoding & Value replacement"
   ]
  },
  {
   "cell_type": "code",
   "execution_count": 126,
   "metadata": {},
   "outputs": [
    {
     "name": "stdout",
     "output_type": "stream",
     "text": [
      "<class 'pandas.core.frame.DataFrame'>\n",
      "RangeIndex: 2795 entries, 0 to 2794\n",
      "Data columns (total 15 columns):\n",
      "All Costs             2795 non-null int64\n",
      "Accident Year         2795 non-null int64\n",
      "Operator ID           2795 non-null int64\n",
      "Pipeline Type         2795 non-null object\n",
      "Liquid Type           2795 non-null object\n",
      "Accident State        2783 non-null object\n",
      "Accident Latitude     2795 non-null float64\n",
      "Accident Longitude    2795 non-null float64\n",
      "Cause Category        2795 non-null object\n",
      "Liquid Ignition       2795 non-null object\n",
      "Liquid Explosion      2795 non-null object\n",
      "Net Loss (Barrels)    2795 non-null float64\n",
      "Shutdown Duration     2795 non-null float64\n",
      "Public Evacuations    2795 non-null float64\n",
      "Log All Costs         2795 non-null float64\n",
      "dtypes: float64(6), int64(3), object(6)\n",
      "memory usage: 327.6+ KB\n"
     ]
    }
   ],
   "source": [
    "newdf.info()"
   ]
  },
  {
   "cell_type": "code",
   "execution_count": 127,
   "metadata": {},
   "outputs": [
    {
     "data": {
      "text/plain": [
       "['Pipeline Type',\n",
       " 'Liquid Type',\n",
       " 'Accident State',\n",
       " 'Cause Category',\n",
       " 'Liquid Ignition',\n",
       " 'Liquid Explosion',\n",
       " 'Operator ID']"
      ]
     },
     "execution_count": 127,
     "metadata": {},
     "output_type": "execute_result"
    }
   ],
   "source": [
    "# Extract names of the categorical columns\n",
    "categorical_columns = [col for col in newdf.columns if newdf[col].dtype == 'object']\n",
    "# Add Operator ID column manually\n",
    "categorical_columns.append('Operator ID')\n",
    "categorical_columns"
   ]
  },
  {
   "cell_type": "markdown",
   "metadata": {},
   "source": [
    "#### - Implementation of One-Hot encoding\n",
    "- We use a for-loop to do one-hot encoding. Categorical data will be converted into multiple dummy variable columns.\n",
    "- In order to avoid the problem of **multicollinearity** among dummies of each categorical data (**'dummy variable trap'**), we use the option, \"drop_first=True\", of the function pd.get_dummies(). This option enables to drop first dummy column for each categorical data so that the dropped column's value can be described by setting the rest of the dummies as all 0.\n",
    "- We will also need to be careful about **curse of dimensionality**. Note that now we have 2795 obervations. If we have too many explanatory variables compared to the number of observation, the curse of dimensionality will damage the quality of our prediction. Especially, one-hot encoding of Operator ID will significantly increase the dimensionality."
   ]
  },
  {
   "cell_type": "code",
   "execution_count": 128,
   "metadata": {
    "scrolled": false
   },
   "outputs": [],
   "source": [
    "from sklearn.preprocessing import LabelBinarizer\n",
    "lb = LabelBinarizer()\n",
    "\n",
    "# Loop for one-hot encoding\n",
    "for col in categorical_columns:\n",
    "    dum = pd.get_dummies(newdf[col], prefix=col, drop_first=True)\n",
    "    newdf = pd.concat([newdf, dum], axis=1)\n",
    "    newdf = newdf.drop([col], axis=1)"
   ]
  },
  {
   "cell_type": "markdown",
   "metadata": {},
   "source": [
    "- Now we have the new dataframe with every categorical data being one-hot format. The encoding enlarged the number of columns."
   ]
  },
  {
   "cell_type": "code",
   "execution_count": 129,
   "metadata": {},
   "outputs": [
    {
     "name": "stdout",
     "output_type": "stream",
     "text": [
      "(2795, 281)\n"
     ]
    }
   ],
   "source": [
    "print(newdf.shape)"
   ]
  },
  {
   "cell_type": "markdown",
   "metadata": {},
   "source": [
    "### 2.3. Feature Selection"
   ]
  },
  {
   "cell_type": "markdown",
   "metadata": {},
   "source": [
    "- We calculate feature (variable) importance by measuring how much Mean Squared Error (MSE) is increased if we remove one of the features in turn.\n",
    "- Since we have categorical data whose feature was encoded into multiple dummy columns, we cannot use standard feature importance function in libraries.\n",
    "- Therefore, we constructed our original function to measure feature importance based on MSE."
   ]
  },
  {
   "cell_type": "code",
   "execution_count": 130,
   "metadata": {},
   "outputs": [],
   "source": [
    "from sklearn.linear_model import Lasso, LassoCV, Ridge, RidgeCV, LinearRegression\n",
    "from sklearn.model_selection import cross_val_predict, train_test_split, cross_val_score\n",
    "from sklearn.feature_selection import SelectFromModel\n",
    "from sklearn.ensemble import RandomForestRegressor, BaggingClassifier, BaggingRegressor, AdaBoostRegressor\n",
    "from sklearn.neighbors import KNeighborsRegressor\n",
    "from sklearn.metrics import r2_score, explained_variance_score\n",
    "from yellowbrick.regressor import AlphaSelection, PredictionError, ResidualsPlot\n",
    "import math\n",
    "import sklearn.metrics as metrics"
   ]
  },
  {
   "cell_type": "markdown",
   "metadata": {},
   "source": [
    "- Extract the X and y data from the dataframe"
   ]
  },
  {
   "cell_type": "code",
   "execution_count": 131,
   "metadata": {
    "scrolled": true
   },
   "outputs": [
    {
     "name": "stdout",
     "output_type": "stream",
     "text": [
      "(2795, 281)\n",
      "Shape of X: (2795, 279)\n"
     ]
    }
   ],
   "source": [
    "#Erase top 5 outliers:\n",
    "#dataframe = dataframe.drop(dataframe.index[[194, 2103, 523, 1173, 2675]])\n",
    "#dataframe = dataframe.dropna(axis=0).copy()\n",
    "dataframe = newdf.copy()\n",
    "print(dataframe.shape)\n",
    "# Extract the X and y data from the dataframe\n",
    "X = dataframe.drop(['All Costs', 'Log All Costs'], axis=1)\n",
    "X_original = X\n",
    "print(\"Shape of X:\", X.shape)\n",
    "y = dataframe['Log All Costs']"
   ]
  },
  {
   "cell_type": "code",
   "execution_count": 132,
   "metadata": {},
   "outputs": [],
   "source": [
    "features = [col for col in df_selected2.columns]\n",
    "features.remove('All Costs')\n",
    "features.remove('Log All Costs')\n",
    "columns = [col for col in newdf.columns]\n",
    "columns.remove('All Costs')\n",
    "columns.remove('Log All Costs')"
   ]
  },
  {
   "cell_type": "code",
   "execution_count": 133,
   "metadata": {},
   "outputs": [],
   "source": [
    "# Identify sets of columns to be deleted for each feature\n",
    "# This will give a dictionary with key = feature & value = names of the dummy columns of the corresponding feature\n",
    "import re\n",
    "dic = {}\n",
    "for feat in features:\n",
    "    l = []\n",
    "    for col in columns:\n",
    "        exists = re.search(feat, col)\n",
    "        if exists:\n",
    "            l.append(col)\n",
    "    if not l:  # If the list is empty\n",
    "        dic[feat] = [feat]\n",
    "    else:\n",
    "        dic[feat] = l"
   ]
  },
  {
   "cell_type": "markdown",
   "metadata": {},
   "source": [
    "#### - Definition of the Variable Importance Function:"
   ]
  },
  {
   "cell_type": "code",
   "execution_count": 134,
   "metadata": {
    "scrolled": true
   },
   "outputs": [],
   "source": [
    "# Run the model of our choice on the dataset without one of the features in turn,\n",
    "# and calculate the gap (i.e. importance) between the MSE on such dataset and\n",
    "# the MSE on the dataset with all the features\n",
    "\n",
    "def ext0(imp):\n",
    "    return imp[0]\n",
    "def ext1(imp):\n",
    "    return imp[1]\n",
    "\n",
    "def Variable_Importance_Function(model, n_epoch, X, y, features, dic):\n",
    "    model_ = model\n",
    "    # Calculate MSE in case of using all the features\n",
    "    model.fit(X, y)\n",
    "    y_hat = model.predict(X)\n",
    "    mse = metrics.mean_squared_error(y, y_hat)\n",
    "\n",
    "    # In order to get a robust result, we calculate the importance 'n_epoch' times and take average\n",
    "    importance_set = []\n",
    "    for epoch in range(n_epoch):\n",
    "        importance = []\n",
    "        for feat in features:\n",
    "            X_ = X.copy()\n",
    "            for col in dic[feat]:\n",
    "                X_ = X_.drop(col, axis=1)\n",
    "            model_.fit(X_, y)\n",
    "            y_hat_ = model_.predict(X_)\n",
    "            mse_ = metrics.mean_squared_error(y, y_hat_)\n",
    "            importance.append((feat, mse_ - mse))\n",
    "        importance_set.append(importance)\n",
    "\n",
    "    feature_names = list(map(ext0, importance))\n",
    "    value_list=[]\n",
    "    for i in range(len(importance_set)):\n",
    "        values = list(map(ext1, importance_set[i]))\n",
    "        value_list.append(values)\n",
    "    value_list\n",
    "\n",
    "    # Take the average of the importance values\n",
    "    importance_mean = np.mean(value_list, axis=0)\n",
    "    importance_mean\n",
    "\n",
    "    importance_list = []\n",
    "    for i in range(len(importance)):\n",
    "        importance_list.append((feature_names[i], importance_mean[i]))\n",
    "    \n",
    "    # Sort the importance\n",
    "    criteria = lambda e: e[1]\n",
    "    importance_list.sort(key=criteria, reverse=True)\n",
    "    \n",
    "    return importance_list"
   ]
  },
  {
   "cell_type": "markdown",
   "metadata": {},
   "source": [
    "#### - Implementation of Variable Importance Function using **Random Forest**\n",
    "- From the below result, we found that 'Net Loss (Barrels)' is the most important feature when predicting the cost, followed by 'Pipeline Type' or 'Shutdown Duration'.\n",
    "- Sometimes, a few featues have negative importance value. This means that inclusion of its feature actually increases the prediction error. These features should be excluded from our feature selection.\n",
    "- This execution may take about a minute."
   ]
  },
  {
   "cell_type": "code",
   "execution_count": 135,
   "metadata": {},
   "outputs": [],
   "source": [
    "# Initialize the result\n",
    "# Later on, we will take average of importance result based on different models (Random Forest and K-Neighbors)\n",
    "importance_result = []"
   ]
  },
  {
   "cell_type": "code",
   "execution_count": 136,
   "metadata": {},
   "outputs": [
    {
     "name": "stdout",
     "output_type": "stream",
     "text": [
      "('Net Loss (Barrels)', 0.36188161386888956)\n",
      "('Shutdown Duration', 0.2675385617806363)\n",
      "('Pipeline Type', 0.263340780993809)\n",
      "('Liquid Type', 0.12661817859323402)\n",
      "('Liquid Ignition', 0.09265885798018196)\n",
      "('Accident Longitude', 0.0037904066071733134)\n",
      "('Cause Category', 0.0037760862725458645)\n",
      "('Accident Year', -0.0113442354727602)\n",
      "('Accident State', -0.011643552441629179)\n",
      "('Accident Latitude', -0.015681068320468405)\n",
      "('Public Evacuations', -0.01731568496787883)\n",
      "('Liquid Explosion', -0.018378083135054624)\n",
      "('Operator ID', -0.020343035149251686)\n"
     ]
    }
   ],
   "source": [
    "# Choose Model and Number of epoch\n",
    "model = RandomForestRegressor(max_depth=5, criterion='mse', n_estimators=100)\n",
    "n_epoch = 5\n",
    "\n",
    "# Run the function\n",
    "importance_list = Variable_Importance_Function(model, n_epoch, X, y, features, dic)\n",
    "\n",
    "# Display the result\n",
    "for i in range(len(importance_list)):\n",
    "    print(importance_list[i])\n",
    "    \n",
    "# Save the result\n",
    "criteria = lambda e: e[0]\n",
    "importance_list.sort(key=criteria)\n",
    "importance_result.append(importance_list)"
   ]
  },
  {
   "cell_type": "markdown",
   "metadata": {},
   "source": [
    "#### - Implementation of Variable Importance Function using **K-Neighbors**\n",
    "- From the below result, we found that 'Shutdown Duration' is the most important feature this time when predicting the cost, followed by 'Liquid Ignition' and 'Cause Category'.\n",
    "- This execution may take about a minute."
   ]
  },
  {
   "cell_type": "code",
   "execution_count": 137,
   "metadata": {},
   "outputs": [
    {
     "name": "stdout",
     "output_type": "stream",
     "text": [
      "('Accident Year', 0.02727964923144151)\n",
      "('Pipeline Type', 0.009350463909276428)\n",
      "('Net Loss (Barrels)', 0.008456189446807927)\n",
      "('Shutdown Duration', 0.00653269558532214)\n",
      "('Cause Category', 0.0024637373041972183)\n",
      "('Accident State', 0.0023609321846420617)\n",
      "('Accident Longitude', 0.0022486306025761432)\n",
      "('Accident Latitude', 0.00036075146267646775)\n",
      "('Operator ID', 0.0)\n",
      "('Liquid Type', 0.0)\n",
      "('Liquid Ignition', 0.0)\n",
      "('Liquid Explosion', 0.0)\n",
      "('Public Evacuations', 0.0)\n"
     ]
    }
   ],
   "source": [
    "# Choose Model and Number of epoch\n",
    "#model = BaggingRegressor(KNeighborsRegressor(n_neighbors=15, weights='distance'))\n",
    "n_epoch = 3\n",
    "\n",
    "# Or alternatively (reduce execution time)\n",
    "model = KNeighborsRegressor(n_neighbors=15, weights='distance')\n",
    "\n",
    "# Run the function\n",
    "importance_list = Variable_Importance_Function(model, n_epoch, X, y, features, dic)\n",
    "\n",
    "# Display the result\n",
    "for i in range(len(importance_list)):\n",
    "    print(importance_list[i])\n",
    "    \n",
    "# Save the result\n",
    "criteria = lambda e: e[0]\n",
    "importance_list.sort(key=criteria)\n",
    "importance_result.append(importance_list)"
   ]
  },
  {
   "cell_type": "markdown",
   "metadata": {},
   "source": [
    "#### - Aggregation of the two results by taking average"
   ]
  },
  {
   "cell_type": "code",
   "execution_count": 138,
   "metadata": {},
   "outputs": [
    {
     "name": "stdout",
     "output_type": "stream",
     "text": [
      "('Net Loss (Barrels)', 0.18516890165784874)\n",
      "('Shutdown Duration', 0.13703562868297922)\n",
      "('Pipeline Type', 0.1363456224515427)\n",
      "('Liquid Type', 0.06330908929661701)\n",
      "('Liquid Ignition', 0.04632942899009098)\n",
      "('Accident Year', 0.007967706879340656)\n",
      "('Cause Category', 0.003119911788371541)\n",
      "('Accident Longitude', 0.003019518604874728)\n",
      "('Accident State', -0.004641310128493559)\n",
      "('Accident Latitude', -0.0076601584288959685)\n",
      "('Public Evacuations', -0.008657842483939415)\n",
      "('Liquid Explosion', -0.009189041567527312)\n",
      "('Operator ID', -0.010171517574625843)\n"
     ]
    }
   ],
   "source": [
    "feature_names = list(map(ext0, importance_list))\n",
    "value_list=[]\n",
    "for i in range(len(importance_result)):\n",
    "    values = list(map(ext1, importance_result[i]))\n",
    "    value_list.append(values)\n",
    "\n",
    "# Take the average of the importance values\n",
    "importance_mean = np.mean(value_list, axis=0)\n",
    "importance_mean\n",
    "\n",
    "final_result = []\n",
    "for i in range(len(importance_mean)):\n",
    "    final_result.append((feature_names[i], importance_mean[i]))\n",
    "final_result\n",
    "    \n",
    "# Sort the importance\n",
    "criteria = lambda e: e[1]\n",
    "final_result.sort(key=criteria, reverse=True)\n",
    "\n",
    "# Display the result\n",
    "for i in range(len(final_result)):\n",
    "    print(final_result[i])"
   ]
  },
  {
   "cell_type": "markdown",
   "metadata": {},
   "source": [
    "#### - Select Features based on the Importance\n",
    "- Based on the final result above, we choose features that have relatively importance."
   ]
  },
  {
   "cell_type": "code",
   "execution_count": 139,
   "metadata": {},
   "outputs": [
    {
     "name": "stdout",
     "output_type": "stream",
     "text": [
      "We have selected the highlighted 5 features:\n",
      "\u001b[31mImportance Rank 1 Net Loss (Barrels)\u001b[0m\n",
      "\u001b[31mImportance Rank 2 Shutdown Duration\u001b[0m\n",
      "\u001b[31mImportance Rank 3 Pipeline Type\u001b[0m\n",
      "\u001b[31mImportance Rank 4 Liquid Type\u001b[0m\n",
      "\u001b[31mImportance Rank 5 Liquid Ignition\u001b[0m\n",
      "Importance Rank 5 Accident Year\n",
      "Importance Rank 6 Cause Category\n",
      "Importance Rank 7 Accident Longitude\n",
      "Importance Rank 8 Accident State\n",
      "Importance Rank 9 Accident Latitude\n",
      "Importance Rank 10 Public Evacuations\n",
      "Importance Rank 11 Liquid Explosion\n",
      "Importance Rank 12 Operator ID\n"
     ]
    }
   ],
   "source": [
    "# Decide on how many features to include in our models\n",
    "n_features = 5\n",
    "\n",
    "feature_names = list(map(ext0, final_result))\n",
    "features_to_delete = list(map(ext0, final_result))\n",
    "del features_to_delete[:n_features]\n",
    "#print(\"Features to be deleted:\",features_to_delete)\n",
    "\n",
    "print(\"We have selected the highlighted\", n_features, \"features:\")\n",
    "for i in range(len(feature_names)):\n",
    "    if feature_names[i] not in features_to_delete:\n",
    "        print(\"\\033[31m\" + \"Importance Rank\", str(i+1), feature_names[i] + \"\\033[0m\")\n",
    "    else:\n",
    "        print(\"Importance Rank\", i, feature_names[i])"
   ]
  },
  {
   "cell_type": "code",
   "execution_count": 141,
   "metadata": {},
   "outputs": [
    {
     "data": {
      "text/html": [
       "<div>\n",
       "<style scoped>\n",
       "    .dataframe tbody tr th:only-of-type {\n",
       "        vertical-align: middle;\n",
       "    }\n",
       "\n",
       "    .dataframe tbody tr th {\n",
       "        vertical-align: top;\n",
       "    }\n",
       "\n",
       "    .dataframe thead th {\n",
       "        text-align: right;\n",
       "    }\n",
       "</style>\n",
       "<table border=\"1\" class=\"dataframe\">\n",
       "  <thead>\n",
       "    <tr style=\"text-align: right;\">\n",
       "      <th></th>\n",
       "      <th>0</th>\n",
       "      <th>1</th>\n",
       "      <th>2</th>\n",
       "      <th>3</th>\n",
       "      <th>4</th>\n",
       "      <th>5</th>\n",
       "      <th>6</th>\n",
       "      <th>7</th>\n",
       "      <th>8</th>\n",
       "      <th>9</th>\n",
       "      <th>...</th>\n",
       "      <th>2785</th>\n",
       "      <th>2786</th>\n",
       "      <th>2787</th>\n",
       "      <th>2788</th>\n",
       "      <th>2789</th>\n",
       "      <th>2790</th>\n",
       "      <th>2791</th>\n",
       "      <th>2792</th>\n",
       "      <th>2793</th>\n",
       "      <th>2794</th>\n",
       "    </tr>\n",
       "  </thead>\n",
       "  <tbody>\n",
       "    <tr>\n",
       "      <th>Net Loss (Barrels)</th>\n",
       "      <td>21.0</td>\n",
       "      <td>0.0</td>\n",
       "      <td>2.0</td>\n",
       "      <td>0.0</td>\n",
       "      <td>2.0</td>\n",
       "      <td>2237.0</td>\n",
       "      <td>5.0</td>\n",
       "      <td>0.24</td>\n",
       "      <td>0.0</td>\n",
       "      <td>0.0</td>\n",
       "      <td>...</td>\n",
       "      <td>0.0</td>\n",
       "      <td>0.0</td>\n",
       "      <td>0.0</td>\n",
       "      <td>0.0</td>\n",
       "      <td>1.0</td>\n",
       "      <td>0.0</td>\n",
       "      <td>580.0</td>\n",
       "      <td>0.0</td>\n",
       "      <td>0.0</td>\n",
       "      <td>0.0</td>\n",
       "    </tr>\n",
       "    <tr>\n",
       "      <th>Shutdown Duration</th>\n",
       "      <td>0.0</td>\n",
       "      <td>0.0</td>\n",
       "      <td>0.0</td>\n",
       "      <td>0.0</td>\n",
       "      <td>0.0</td>\n",
       "      <td>105.0</td>\n",
       "      <td>0.0</td>\n",
       "      <td>0.00</td>\n",
       "      <td>0.0</td>\n",
       "      <td>0.0</td>\n",
       "      <td>...</td>\n",
       "      <td>18.0</td>\n",
       "      <td>4.0</td>\n",
       "      <td>0.0</td>\n",
       "      <td>0.0</td>\n",
       "      <td>2.0</td>\n",
       "      <td>7.0</td>\n",
       "      <td>0.0</td>\n",
       "      <td>0.0</td>\n",
       "      <td>0.0</td>\n",
       "      <td>0.0</td>\n",
       "    </tr>\n",
       "    <tr>\n",
       "      <th>Pipeline Type_OFFSHORE</th>\n",
       "      <td>0.0</td>\n",
       "      <td>0.0</td>\n",
       "      <td>0.0</td>\n",
       "      <td>0.0</td>\n",
       "      <td>0.0</td>\n",
       "      <td>0.0</td>\n",
       "      <td>0.0</td>\n",
       "      <td>0.00</td>\n",
       "      <td>0.0</td>\n",
       "      <td>0.0</td>\n",
       "      <td>...</td>\n",
       "      <td>0.0</td>\n",
       "      <td>0.0</td>\n",
       "      <td>0.0</td>\n",
       "      <td>0.0</td>\n",
       "      <td>0.0</td>\n",
       "      <td>0.0</td>\n",
       "      <td>0.0</td>\n",
       "      <td>0.0</td>\n",
       "      <td>0.0</td>\n",
       "      <td>0.0</td>\n",
       "    </tr>\n",
       "    <tr>\n",
       "      <th>Pipeline Type_TANK</th>\n",
       "      <td>0.0</td>\n",
       "      <td>0.0</td>\n",
       "      <td>0.0</td>\n",
       "      <td>0.0</td>\n",
       "      <td>0.0</td>\n",
       "      <td>0.0</td>\n",
       "      <td>1.0</td>\n",
       "      <td>0.00</td>\n",
       "      <td>0.0</td>\n",
       "      <td>1.0</td>\n",
       "      <td>...</td>\n",
       "      <td>0.0</td>\n",
       "      <td>0.0</td>\n",
       "      <td>0.0</td>\n",
       "      <td>0.0</td>\n",
       "      <td>0.0</td>\n",
       "      <td>0.0</td>\n",
       "      <td>0.0</td>\n",
       "      <td>1.0</td>\n",
       "      <td>0.0</td>\n",
       "      <td>0.0</td>\n",
       "    </tr>\n",
       "    <tr>\n",
       "      <th>Pipeline Type_TRANSITION AREA</th>\n",
       "      <td>0.0</td>\n",
       "      <td>0.0</td>\n",
       "      <td>0.0</td>\n",
       "      <td>0.0</td>\n",
       "      <td>0.0</td>\n",
       "      <td>0.0</td>\n",
       "      <td>0.0</td>\n",
       "      <td>0.00</td>\n",
       "      <td>0.0</td>\n",
       "      <td>0.0</td>\n",
       "      <td>...</td>\n",
       "      <td>0.0</td>\n",
       "      <td>0.0</td>\n",
       "      <td>0.0</td>\n",
       "      <td>0.0</td>\n",
       "      <td>0.0</td>\n",
       "      <td>0.0</td>\n",
       "      <td>0.0</td>\n",
       "      <td>0.0</td>\n",
       "      <td>0.0</td>\n",
       "      <td>0.0</td>\n",
       "    </tr>\n",
       "    <tr>\n",
       "      <th>Pipeline Type_UNDERGROUND</th>\n",
       "      <td>0.0</td>\n",
       "      <td>0.0</td>\n",
       "      <td>0.0</td>\n",
       "      <td>1.0</td>\n",
       "      <td>1.0</td>\n",
       "      <td>1.0</td>\n",
       "      <td>0.0</td>\n",
       "      <td>0.00</td>\n",
       "      <td>0.0</td>\n",
       "      <td>0.0</td>\n",
       "      <td>...</td>\n",
       "      <td>0.0</td>\n",
       "      <td>0.0</td>\n",
       "      <td>0.0</td>\n",
       "      <td>0.0</td>\n",
       "      <td>0.0</td>\n",
       "      <td>0.0</td>\n",
       "      <td>1.0</td>\n",
       "      <td>0.0</td>\n",
       "      <td>1.0</td>\n",
       "      <td>0.0</td>\n",
       "    </tr>\n",
       "    <tr>\n",
       "      <th>Liquid Type_CO2 (CARBON DIOXIDE)</th>\n",
       "      <td>0.0</td>\n",
       "      <td>0.0</td>\n",
       "      <td>0.0</td>\n",
       "      <td>0.0</td>\n",
       "      <td>0.0</td>\n",
       "      <td>0.0</td>\n",
       "      <td>0.0</td>\n",
       "      <td>0.00</td>\n",
       "      <td>0.0</td>\n",
       "      <td>0.0</td>\n",
       "      <td>...</td>\n",
       "      <td>0.0</td>\n",
       "      <td>0.0</td>\n",
       "      <td>0.0</td>\n",
       "      <td>0.0</td>\n",
       "      <td>0.0</td>\n",
       "      <td>0.0</td>\n",
       "      <td>0.0</td>\n",
       "      <td>0.0</td>\n",
       "      <td>0.0</td>\n",
       "      <td>0.0</td>\n",
       "    </tr>\n",
       "    <tr>\n",
       "      <th>Liquid Type_CRUDE OIL</th>\n",
       "      <td>0.0</td>\n",
       "      <td>1.0</td>\n",
       "      <td>0.0</td>\n",
       "      <td>1.0</td>\n",
       "      <td>1.0</td>\n",
       "      <td>1.0</td>\n",
       "      <td>0.0</td>\n",
       "      <td>0.00</td>\n",
       "      <td>0.0</td>\n",
       "      <td>0.0</td>\n",
       "      <td>...</td>\n",
       "      <td>1.0</td>\n",
       "      <td>1.0</td>\n",
       "      <td>1.0</td>\n",
       "      <td>1.0</td>\n",
       "      <td>1.0</td>\n",
       "      <td>1.0</td>\n",
       "      <td>0.0</td>\n",
       "      <td>1.0</td>\n",
       "      <td>0.0</td>\n",
       "      <td>1.0</td>\n",
       "    </tr>\n",
       "    <tr>\n",
       "      <th>Liquid Type_HVL OR OTHER FLAMMABLE OR TOXIC FLUID, GAS</th>\n",
       "      <td>1.0</td>\n",
       "      <td>0.0</td>\n",
       "      <td>1.0</td>\n",
       "      <td>0.0</td>\n",
       "      <td>0.0</td>\n",
       "      <td>0.0</td>\n",
       "      <td>0.0</td>\n",
       "      <td>1.00</td>\n",
       "      <td>0.0</td>\n",
       "      <td>0.0</td>\n",
       "      <td>...</td>\n",
       "      <td>0.0</td>\n",
       "      <td>0.0</td>\n",
       "      <td>0.0</td>\n",
       "      <td>0.0</td>\n",
       "      <td>0.0</td>\n",
       "      <td>0.0</td>\n",
       "      <td>1.0</td>\n",
       "      <td>0.0</td>\n",
       "      <td>0.0</td>\n",
       "      <td>0.0</td>\n",
       "    </tr>\n",
       "    <tr>\n",
       "      <th>Liquid Type_REFINED AND/OR PETROLEUM PRODUCT (NON-HVL), LIQUID</th>\n",
       "      <td>0.0</td>\n",
       "      <td>0.0</td>\n",
       "      <td>0.0</td>\n",
       "      <td>0.0</td>\n",
       "      <td>0.0</td>\n",
       "      <td>0.0</td>\n",
       "      <td>1.0</td>\n",
       "      <td>0.00</td>\n",
       "      <td>1.0</td>\n",
       "      <td>1.0</td>\n",
       "      <td>...</td>\n",
       "      <td>0.0</td>\n",
       "      <td>0.0</td>\n",
       "      <td>0.0</td>\n",
       "      <td>0.0</td>\n",
       "      <td>0.0</td>\n",
       "      <td>0.0</td>\n",
       "      <td>0.0</td>\n",
       "      <td>0.0</td>\n",
       "      <td>1.0</td>\n",
       "      <td>0.0</td>\n",
       "    </tr>\n",
       "    <tr>\n",
       "      <th>Liquid Ignition_YES</th>\n",
       "      <td>0.0</td>\n",
       "      <td>0.0</td>\n",
       "      <td>0.0</td>\n",
       "      <td>0.0</td>\n",
       "      <td>0.0</td>\n",
       "      <td>0.0</td>\n",
       "      <td>0.0</td>\n",
       "      <td>0.00</td>\n",
       "      <td>0.0</td>\n",
       "      <td>0.0</td>\n",
       "      <td>...</td>\n",
       "      <td>0.0</td>\n",
       "      <td>0.0</td>\n",
       "      <td>0.0</td>\n",
       "      <td>0.0</td>\n",
       "      <td>0.0</td>\n",
       "      <td>0.0</td>\n",
       "      <td>0.0</td>\n",
       "      <td>0.0</td>\n",
       "      <td>0.0</td>\n",
       "      <td>0.0</td>\n",
       "    </tr>\n",
       "  </tbody>\n",
       "</table>\n",
       "<p>11 rows × 2795 columns</p>\n",
       "</div>"
      ],
      "text/plain": [
       "                                                    0     1     2     3     \\\n",
       "Net Loss (Barrels)                                  21.0   0.0   2.0   0.0   \n",
       "Shutdown Duration                                    0.0   0.0   0.0   0.0   \n",
       "Pipeline Type_OFFSHORE                               0.0   0.0   0.0   0.0   \n",
       "Pipeline Type_TANK                                   0.0   0.0   0.0   0.0   \n",
       "Pipeline Type_TRANSITION AREA                        0.0   0.0   0.0   0.0   \n",
       "Pipeline Type_UNDERGROUND                            0.0   0.0   0.0   1.0   \n",
       "Liquid Type_CO2 (CARBON DIOXIDE)                     0.0   0.0   0.0   0.0   \n",
       "Liquid Type_CRUDE OIL                                0.0   1.0   0.0   1.0   \n",
       "Liquid Type_HVL OR OTHER FLAMMABLE OR TOXIC FLU...   1.0   0.0   1.0   0.0   \n",
       "Liquid Type_REFINED AND/OR PETROLEUM PRODUCT (N...   0.0   0.0   0.0   0.0   \n",
       "Liquid Ignition_YES                                  0.0   0.0   0.0   0.0   \n",
       "\n",
       "                                                    4       5     6     7     \\\n",
       "Net Loss (Barrels)                                   2.0  2237.0   5.0  0.24   \n",
       "Shutdown Duration                                    0.0   105.0   0.0  0.00   \n",
       "Pipeline Type_OFFSHORE                               0.0     0.0   0.0  0.00   \n",
       "Pipeline Type_TANK                                   0.0     0.0   1.0  0.00   \n",
       "Pipeline Type_TRANSITION AREA                        0.0     0.0   0.0  0.00   \n",
       "Pipeline Type_UNDERGROUND                            1.0     1.0   0.0  0.00   \n",
       "Liquid Type_CO2 (CARBON DIOXIDE)                     0.0     0.0   0.0  0.00   \n",
       "Liquid Type_CRUDE OIL                                1.0     1.0   0.0  0.00   \n",
       "Liquid Type_HVL OR OTHER FLAMMABLE OR TOXIC FLU...   0.0     0.0   0.0  1.00   \n",
       "Liquid Type_REFINED AND/OR PETROLEUM PRODUCT (N...   0.0     0.0   1.0  0.00   \n",
       "Liquid Ignition_YES                                  0.0     0.0   0.0  0.00   \n",
       "\n",
       "                                                    8     9     ...   2785  \\\n",
       "Net Loss (Barrels)                                   0.0   0.0  ...    0.0   \n",
       "Shutdown Duration                                    0.0   0.0  ...   18.0   \n",
       "Pipeline Type_OFFSHORE                               0.0   0.0  ...    0.0   \n",
       "Pipeline Type_TANK                                   0.0   1.0  ...    0.0   \n",
       "Pipeline Type_TRANSITION AREA                        0.0   0.0  ...    0.0   \n",
       "Pipeline Type_UNDERGROUND                            0.0   0.0  ...    0.0   \n",
       "Liquid Type_CO2 (CARBON DIOXIDE)                     0.0   0.0  ...    0.0   \n",
       "Liquid Type_CRUDE OIL                                0.0   0.0  ...    1.0   \n",
       "Liquid Type_HVL OR OTHER FLAMMABLE OR TOXIC FLU...   0.0   0.0  ...    0.0   \n",
       "Liquid Type_REFINED AND/OR PETROLEUM PRODUCT (N...   1.0   1.0  ...    0.0   \n",
       "Liquid Ignition_YES                                  0.0   0.0  ...    0.0   \n",
       "\n",
       "                                                    2786  2787  2788  2789  \\\n",
       "Net Loss (Barrels)                                   0.0   0.0   0.0   1.0   \n",
       "Shutdown Duration                                    4.0   0.0   0.0   2.0   \n",
       "Pipeline Type_OFFSHORE                               0.0   0.0   0.0   0.0   \n",
       "Pipeline Type_TANK                                   0.0   0.0   0.0   0.0   \n",
       "Pipeline Type_TRANSITION AREA                        0.0   0.0   0.0   0.0   \n",
       "Pipeline Type_UNDERGROUND                            0.0   0.0   0.0   0.0   \n",
       "Liquid Type_CO2 (CARBON DIOXIDE)                     0.0   0.0   0.0   0.0   \n",
       "Liquid Type_CRUDE OIL                                1.0   1.0   1.0   1.0   \n",
       "Liquid Type_HVL OR OTHER FLAMMABLE OR TOXIC FLU...   0.0   0.0   0.0   0.0   \n",
       "Liquid Type_REFINED AND/OR PETROLEUM PRODUCT (N...   0.0   0.0   0.0   0.0   \n",
       "Liquid Ignition_YES                                  0.0   0.0   0.0   0.0   \n",
       "\n",
       "                                                    2790   2791  2792  2793  \\\n",
       "Net Loss (Barrels)                                   0.0  580.0   0.0   0.0   \n",
       "Shutdown Duration                                    7.0    0.0   0.0   0.0   \n",
       "Pipeline Type_OFFSHORE                               0.0    0.0   0.0   0.0   \n",
       "Pipeline Type_TANK                                   0.0    0.0   1.0   0.0   \n",
       "Pipeline Type_TRANSITION AREA                        0.0    0.0   0.0   0.0   \n",
       "Pipeline Type_UNDERGROUND                            0.0    1.0   0.0   1.0   \n",
       "Liquid Type_CO2 (CARBON DIOXIDE)                     0.0    0.0   0.0   0.0   \n",
       "Liquid Type_CRUDE OIL                                1.0    0.0   1.0   0.0   \n",
       "Liquid Type_HVL OR OTHER FLAMMABLE OR TOXIC FLU...   0.0    1.0   0.0   0.0   \n",
       "Liquid Type_REFINED AND/OR PETROLEUM PRODUCT (N...   0.0    0.0   0.0   1.0   \n",
       "Liquid Ignition_YES                                  0.0    0.0   0.0   0.0   \n",
       "\n",
       "                                                    2794  \n",
       "Net Loss (Barrels)                                   0.0  \n",
       "Shutdown Duration                                    0.0  \n",
       "Pipeline Type_OFFSHORE                               0.0  \n",
       "Pipeline Type_TANK                                   0.0  \n",
       "Pipeline Type_TRANSITION AREA                        0.0  \n",
       "Pipeline Type_UNDERGROUND                            0.0  \n",
       "Liquid Type_CO2 (CARBON DIOXIDE)                     0.0  \n",
       "Liquid Type_CRUDE OIL                                1.0  \n",
       "Liquid Type_HVL OR OTHER FLAMMABLE OR TOXIC FLU...   0.0  \n",
       "Liquid Type_REFINED AND/OR PETROLEUM PRODUCT (N...   0.0  \n",
       "Liquid Ignition_YES                                  0.0  \n",
       "\n",
       "[11 rows x 2795 columns]"
      ]
     },
     "execution_count": 141,
     "metadata": {},
     "output_type": "execute_result"
    }
   ],
   "source": [
    "# Name the X after the Feature Selection as X_FS\n",
    "X_FS = X\n",
    "\n",
    "# Remove all the columns in the list of features_to_delete\n",
    "for feat in features_to_delete:\n",
    "    for col in dic[feat]:\n",
    "        X_FS = X_FS.drop(col, axis=1)\n",
    "\n",
    "# Display feature-selected X of our interest (X_FS)\n",
    "X_FS.T"
   ]
  },
  {
   "cell_type": "markdown",
   "metadata": {},
   "source": [
    "#### - Select features with our intuition\n",
    "- Also, we make another dataset X_intuitive that we manually chose with intuition."
   ]
  },
  {
   "cell_type": "code",
   "execution_count": 142,
   "metadata": {},
   "outputs": [
    {
     "data": {
      "text/plain": [
       "['Operator ID',\n",
       " 'Pipeline Type',\n",
       " 'Liquid Type',\n",
       " 'Cause Category',\n",
       " 'Net Loss (Barrels)',\n",
       " 'Liquid Ignition',\n",
       " 'Liquid Explosion',\n",
       " 'Shutdown Duration']"
      ]
     },
     "execution_count": 142,
     "metadata": {},
     "output_type": "execute_result"
    }
   ],
   "source": [
    "# Name the X after the Feature Selection as X_FS\n",
    "X_intuitive = X\n",
    "\n",
    "featues_non_intuitive = list(set(features) - set(list(features_intuitive)))\n",
    "\n",
    "# Remove all the columns in the list of features_to_delete\n",
    "for feat in featues_non_intuitive:\n",
    "    for col in dic[feat]:\n",
    "        X_intuitive = X_intuitive.drop(col, axis=1)\n",
    "list(features_intuitive)"
   ]
  },
  {
   "cell_type": "markdown",
   "metadata": {},
   "source": [
    "#### - Select features using SelectFromModel function\n",
    "- Lastly, we can also make another set of explanatory variables using SelectFromModel()\n",
    "- Note that this function reduces the number of variables **regardless of whether it is one of categorical dummy columns or a quantitative variable column**. As a result, we could reduce the number of variables to 113."
   ]
  },
  {
   "cell_type": "code",
   "execution_count": 143,
   "metadata": {},
   "outputs": [
    {
     "name": "stdout",
     "output_type": "stream",
     "text": [
      "(2795, 279)\n",
      "(2795, 113)\n"
     ]
    },
    {
     "data": {
      "image/png": "[encoded data removed]",
      "text/plain": [
       "<Figure size 432x288 with 2 Axes>"
      ]
     },
     "metadata": {},
     "output_type": "display_data"
    }
   ],
   "source": [
    "print(X.shape)\n",
    "model = Ridge(alpha=3.0, fit_intercept=True, max_iter=None, normalize=False, solver='auto', tol=0.001)\n",
    "visualizer = ResidualsPlot(model)\n",
    "X_train, X_test, y_train, y_test = train_test_split(X, y, test_size=0.3, random_state=123)\n",
    "visualizer.fit(X_train, y_train)\n",
    "\n",
    "# Use of SelectFromModel\n",
    "modela = SelectFromModel(model, prefit=True)\n",
    "X_new = modela.transform(X)\n",
    "print(X_new.shape)"
   ]
  },
  {
   "cell_type": "markdown",
   "metadata": {},
   "source": [
    "## 3. Modelling and regression"
   ]
  },
  {
   "cell_type": "markdown",
   "metadata": {},
   "source": [
    "### 3.1. Train-Test Split\n",
    "- We now have 4 different sets of explanatory variables: X_FS (5 features), X_intuitive (8 features), X_new (originally 14 features and then encoded 113 columns chosen by SelectFromModel()) and X_original (14 features).\n",
    "   \n",
    "    - X_FS: Dataset by Importance-based Features Selection (Variable_Importance_Function())\n",
    "        - **Net Loss (Barrels), Shutdown Duration, Pipeline Type, Liquid Type, Liquid Ignition**\n",
    "    - X_intuitive: Dataset chosen by our intuition\n",
    "        - **Net Loss (Barrels), Shutdown duration, Pipeline Type, Liquid Type, Liquid Ignition, Operator ID, Cause Category, Liquid Explosion**\n",
    "    - X_new: Dataset chosen by SelectFromModel() function\n",
    "        - **113 variables chosen at column-level rather than feature-level**\n",
    "    - X_original: Original Dataset that have the maximum number of features\n",
    "        - **Net Loss (Barrels), Shutdown Duration, Pipeline Type, Liquid Type, Liquid Ignition, Operator ID, Cause Category, Liquid Explosion, Accident Year, Pipeline Location, Accident State, Accident Latitude, Accident Longitude, Public Evacuations**\n",
    "    - y: **Log All Cost** for all the datasets\n",
    "        \n",
    "\n",
    "- After the One-Hot encoding, we have 19 columns for X_FS, 230 columns for X_intuitive, 113 columns for X_new and 279 columns for X_original; the latter 3 datasets have a large number of columns mainly due to One-Hot encoding of the 200+ Operator IDs.\n",
    "- We split the dataset into traninig set and test set with the ratio of 7:3."
   ]
  },
  {
   "cell_type": "code",
   "execution_count": 144,
   "metadata": {},
   "outputs": [
    {
     "name": "stdout",
     "output_type": "stream",
     "text": [
      "(2795, 11)\n",
      "(2795, 230)\n",
      "(2795, 113)\n",
      "(2795, 279)\n"
     ]
    }
   ],
   "source": [
    "print(X_FS.shape)\n",
    "print(X_intuitive.shape)\n",
    "print(X_new.shape)\n",
    "print(X_original.shape)"
   ]
  },
  {
   "cell_type": "code",
   "execution_count": 145,
   "metadata": {},
   "outputs": [],
   "source": [
    "# Create the train and test data \n",
    "X1_train, X1_test, y1_train, y1_test = train_test_split(X_FS, y, test_size=0.3, random_state=123)\n",
    "X2_train, X2_test, y2_train, y2_test = train_test_split(X_intuitive, y, test_size=0.3, random_state=123)\n",
    "X3_train, X3_test, y3_train, y3_test = train_test_split(X_new, y, test_size=0.3, random_state=123)\n",
    "X4_train, X4_test, y4_train, y4_test = train_test_split(X_original, y, test_size=0.3, random_state=123)\n",
    "\n",
    "Set1 = (X1_train, y1_train, X1_test, y1_test)\n",
    "Set2 = (X2_train, y2_train, X2_test, y2_test)\n",
    "Set3 = (X3_train, y3_train, X3_test, y3_test)\n",
    "Set4 = (X4_train, y4_train, X4_test, y4_test)\n",
    "\n",
    "Sets = (Set1, Set2, Set3, Set4)"
   ]
  },
  {
   "cell_type": "markdown",
   "metadata": {},
   "source": [
    "#### - Reminder of Mean Squared Error (MSE)\n",
    "- As a reminder, MSE is defined as:\n",
    "$$MSE = \\frac{1}{n}\\sum_{i=1}^{n} ( y_i - \\hat{y}_i )^2$$"
   ]
  },
  {
   "cell_type": "markdown",
   "metadata": {},
   "source": [
    "#### - Reminder of R-squared\n",
    "- As a reminder, R² formula:\n",
    "$$ R^2 = 1 - \\frac{Sum\\;of\\;Squares\\;of\\;Residuals}{Total\\;Sum\\;of\\;Squares} = 1 - \\frac{\\sum_i ( y_i - \\hat{y}_i )^2}{\\sum_i (y_i - \\bar{y})^2}$$\n",
    "\n",
    "$$ R^2_{adjusted} = 1 - \\frac{\\sum_i ( y_i - \\hat{y}_i )^2/(N-p-1)}{\\sum_i (y_i - \\bar{y})^2/(N-1)}$$\n",
    "- Comparing the definition of MSE and R², we can interpret that **R² is a deviation-normalised version of MSE**.\n",
    "- Since we have datasets which vary in number of explanatory variables, we want to use **adjusted R-squared**. (Simple R-squared keeps increasing while adding more explanatory variables (columns))"
   ]
  },
  {
   "cell_type": "markdown",
   "metadata": {},
   "source": [
    "### 3.2. Ridge"
   ]
  },
  {
   "cell_type": "code",
   "execution_count": 146,
   "metadata": {},
   "outputs": [
    {
     "data": {
      "image/png": "[encoded data removed]",
      "text/plain": [
       "<Figure size 432x288 with 5 Axes>"
      ]
     },
     "metadata": {},
     "output_type": "display_data"
    }
   ],
   "source": [
    "R_sq_list = []\n",
    "R_adj_list = []\n",
    "\n",
    "for Set in Sets:\n",
    "    model = Ridge(alpha=3.0, fit_intercept=True, max_iter=None, normalize=False, solver='auto', tol=0.001)\n",
    "    visualizer = ResidualsPlot(model)\n",
    "    visualizer.fit(Set[0], Set[1])  # Fit the training data to the visualizer\n",
    "    \n",
    "    R_sq_train = visualizer.score(Set[0], Set[1])\n",
    "    R_sq_test = visualizer.score(Set[2], Set[3])\n",
    "    R_adj_train = 1 - (1-R_sq_train)*(len(Set[1])-1)/(len(Set[1])-Set[0].shape[1]-1)\n",
    "    R_adj_test = 1 - (1-R_sq_test)*(len(Set[3])-1)/(len(Set[3])-Set[2].shape[1]-1)\n",
    "    \n",
    "    R_sq_list.append((R_sq_train, R_sq_test))\n",
    "    R_adj_list.append((R_adj_train, R_adj_test))\n",
    "\n",
    "#model.get_params()"
   ]
  },
  {
   "cell_type": "code",
   "execution_count": 147,
   "metadata": {},
   "outputs": [
    {
     "name": "stdout",
     "output_type": "stream",
     "text": [
      "R-squared:\n"
     ]
    },
    {
     "data": {
      "text/html": [
       "<div>\n",
       "<style scoped>\n",
       "    .dataframe tbody tr th:only-of-type {\n",
       "        vertical-align: middle;\n",
       "    }\n",
       "\n",
       "    .dataframe tbody tr th {\n",
       "        vertical-align: top;\n",
       "    }\n",
       "\n",
       "    .dataframe thead th {\n",
       "        text-align: right;\n",
       "    }\n",
       "</style>\n",
       "<table border=\"1\" class=\"dataframe\">\n",
       "  <thead>\n",
       "    <tr style=\"text-align: right;\">\n",
       "      <th></th>\n",
       "      <th>X_FS</th>\n",
       "      <th>X_intuitive</th>\n",
       "      <th>X_new</th>\n",
       "      <th>X_original</th>\n",
       "    </tr>\n",
       "  </thead>\n",
       "  <tbody>\n",
       "    <tr>\n",
       "      <th>Train</th>\n",
       "      <td>0.229114</td>\n",
       "      <td>0.365414</td>\n",
       "      <td>0.336172</td>\n",
       "      <td>0.385183</td>\n",
       "    </tr>\n",
       "    <tr>\n",
       "      <th>Test</th>\n",
       "      <td>0.204467</td>\n",
       "      <td>0.283249</td>\n",
       "      <td>0.250109</td>\n",
       "      <td>0.281544</td>\n",
       "    </tr>\n",
       "  </tbody>\n",
       "</table>\n",
       "</div>"
      ],
      "text/plain": [
       "           X_FS  X_intuitive     X_new  X_original\n",
       "Train  0.229114     0.365414  0.336172    0.385183\n",
       "Test   0.204467     0.283249  0.250109    0.281544"
      ]
     },
     "metadata": {},
     "output_type": "display_data"
    },
    {
     "name": "stdout",
     "output_type": "stream",
     "text": [
      "Adjusted R-squared:\n"
     ]
    },
    {
     "data": {
      "text/html": [
       "<div>\n",
       "<style scoped>\n",
       "    .dataframe tbody tr th:only-of-type {\n",
       "        vertical-align: middle;\n",
       "    }\n",
       "\n",
       "    .dataframe tbody tr th {\n",
       "        vertical-align: top;\n",
       "    }\n",
       "\n",
       "    .dataframe thead th {\n",
       "        text-align: right;\n",
       "    }\n",
       "</style>\n",
       "<table border=\"1\" class=\"dataframe\">\n",
       "  <thead>\n",
       "    <tr style=\"text-align: right;\">\n",
       "      <th></th>\n",
       "      <th>X_FS</th>\n",
       "      <th>X_intuitive</th>\n",
       "      <th>X_new</th>\n",
       "      <th>X_original</th>\n",
       "    </tr>\n",
       "  </thead>\n",
       "  <tbody>\n",
       "    <tr>\n",
       "      <th>Train</th>\n",
       "      <td>0.224752</td>\n",
       "      <td>0.280803</td>\n",
       "      <td>0.295448</td>\n",
       "      <td>0.282835</td>\n",
       "    </tr>\n",
       "    <tr>\n",
       "      <th>Test</th>\n",
       "      <td>0.193885</td>\n",
       "      <td>0.012110</td>\n",
       "      <td>0.133229</td>\n",
       "      <td>-0.077041</td>\n",
       "    </tr>\n",
       "  </tbody>\n",
       "</table>\n",
       "</div>"
      ],
      "text/plain": [
       "           X_FS  X_intuitive     X_new  X_original\n",
       "Train  0.224752     0.280803  0.295448    0.282835\n",
       "Test   0.193885     0.012110  0.133229   -0.077041"
      ]
     },
     "metadata": {},
     "output_type": "display_data"
    }
   ],
   "source": [
    "ridge_R_sq = pd.DataFrame({ 'X_FS' : R_sq_list[0],\n",
    "                        'X_intuitive' : R_sq_list[1],\n",
    "                        'X_new' : R_sq_list[2],\n",
    "                        'X_original' : R_sq_list[3]})\n",
    "ridge_R_adj = pd.DataFrame({ 'X_FS' : R_adj_list[0],\n",
    "                        'X_intuitive' : R_adj_list[1],\n",
    "                        'X_new' : R_adj_list[2],\n",
    "                        'X_original' : R_adj_list[3]})\n",
    "ridge_R_sq.index = ['Train', 'Test']\n",
    "ridge_R_adj.index = ['Train', 'Test']\n",
    "\n",
    "print(\"R-squared:\")\n",
    "display(ridge_R_sq)\n",
    "print(\"Adjusted R-squared:\")\n",
    "display(ridge_R_adj)"
   ]
  },
  {
   "cell_type": "markdown",
   "metadata": {},
   "source": [
    "- As per this result, Ridge model or any linear model won't correctly fit our data. The huge difference of R² between train and test sets indicates the Ridge model is over-fitting.\n",
    "- Neither linear nor polynomial model seem adapted to modelize this dataset; we propose to use bagging methodology to try to get better estimated values"
   ]
  },
  {
   "cell_type": "markdown",
   "metadata": {},
   "source": [
    "- Playing on penalization doesn't help to solve overfitting results as per the R² difference between train and test sets.\n",
    "It seems to be a curse of dimensionality problem which leads to overfitting. Employing X_new seems to be an appropriate as per its results"
   ]
  },
  {
   "cell_type": "markdown",
   "metadata": {},
   "source": [
    "### 3.3. K-Neighbors"
   ]
  },
  {
   "cell_type": "markdown",
   "metadata": {},
   "source": [
    "- BagginRegressor() allows to use kNN on various sub-samples of the dataset made by Bootstrap and average the results to improve the predictive accuracy and control over-fitting"
   ]
  },
  {
   "cell_type": "code",
   "execution_count": 148,
   "metadata": {},
   "outputs": [],
   "source": [
    "R_sq_list = []\n",
    "R_adj_list = []\n",
    "\n",
    "for Set in Sets:\n",
    "    # Model creation and fit\n",
    "    model1 = BaggingRegressor(KNeighborsRegressor(n_neighbors=15, weights='distance'))\n",
    "    model1.fit(Set[0],Set[1])\n",
    "\n",
    "    # results of training set\n",
    "    y2_hat = model1.predict(Set[0])\n",
    "    mae = metrics.mean_absolute_error(Set[1],y2_hat)\n",
    "    mse = metrics.mean_squared_error(Set[1],y2_hat)\n",
    "\n",
    "    # results of test set\n",
    "    y_hat_test = model1.predict(Set[2])\n",
    "    mae = metrics.mean_absolute_error(Set[3],y_hat_test)\n",
    "    mse = metrics.mean_squared_error(Set[3],y_hat_test)\n",
    "    \n",
    "    # R-squared\n",
    "    R_sq_train = model1.score(Set[0], Set[1])\n",
    "    R_sq_test = model1.score(Set[2], Set[3])\n",
    "    R_adj_train = 1 - (1-R_sq_train)*(len(Set[1])-1)/(len(Set[1])-Set[0].shape[1]-1)\n",
    "    R_adj_test = 1 - (1-R_sq_test)*(len(Set[3])-1)/(len(Set[3])-Set[2].shape[1]-1)\n",
    "    \n",
    "    R_sq_list.append((R_sq_train, R_sq_test))\n",
    "    R_adj_list.append((R_adj_train, R_adj_test))\n",
    "\n",
    "#model1.get_params()"
   ]
  },
  {
   "cell_type": "code",
   "execution_count": 149,
   "metadata": {},
   "outputs": [
    {
     "name": "stdout",
     "output_type": "stream",
     "text": [
      "R-squared:\n"
     ]
    },
    {
     "data": {
      "text/html": [
       "<div>\n",
       "<style scoped>\n",
       "    .dataframe tbody tr th:only-of-type {\n",
       "        vertical-align: middle;\n",
       "    }\n",
       "\n",
       "    .dataframe tbody tr th {\n",
       "        vertical-align: top;\n",
       "    }\n",
       "\n",
       "    .dataframe thead th {\n",
       "        text-align: right;\n",
       "    }\n",
       "</style>\n",
       "<table border=\"1\" class=\"dataframe\">\n",
       "  <thead>\n",
       "    <tr style=\"text-align: right;\">\n",
       "      <th></th>\n",
       "      <th>X_FS</th>\n",
       "      <th>X_intuitive</th>\n",
       "      <th>X_new</th>\n",
       "      <th>X_original</th>\n",
       "    </tr>\n",
       "  </thead>\n",
       "  <tbody>\n",
       "    <tr>\n",
       "      <th>Train</th>\n",
       "      <td>0.656884</td>\n",
       "      <td>0.839369</td>\n",
       "      <td>0.558330</td>\n",
       "      <td>0.881988</td>\n",
       "    </tr>\n",
       "    <tr>\n",
       "      <th>Test</th>\n",
       "      <td>0.239187</td>\n",
       "      <td>0.281465</td>\n",
       "      <td>0.170899</td>\n",
       "      <td>0.239076</td>\n",
       "    </tr>\n",
       "  </tbody>\n",
       "</table>\n",
       "</div>"
      ],
      "text/plain": [
       "           X_FS  X_intuitive     X_new  X_original\n",
       "Train  0.656884     0.839369  0.558330    0.881988\n",
       "Test   0.239187     0.281465  0.170899    0.239076"
      ]
     },
     "metadata": {},
     "output_type": "display_data"
    },
    {
     "name": "stdout",
     "output_type": "stream",
     "text": [
      "Adjusted R-squared:\n"
     ]
    },
    {
     "data": {
      "text/html": [
       "<div>\n",
       "<style scoped>\n",
       "    .dataframe tbody tr th:only-of-type {\n",
       "        vertical-align: middle;\n",
       "    }\n",
       "\n",
       "    .dataframe tbody tr th {\n",
       "        vertical-align: top;\n",
       "    }\n",
       "\n",
       "    .dataframe thead th {\n",
       "        text-align: right;\n",
       "    }\n",
       "</style>\n",
       "<table border=\"1\" class=\"dataframe\">\n",
       "  <thead>\n",
       "    <tr style=\"text-align: right;\">\n",
       "      <th></th>\n",
       "      <th>X_FS</th>\n",
       "      <th>X_intuitive</th>\n",
       "      <th>X_new</th>\n",
       "      <th>X_original</th>\n",
       "    </tr>\n",
       "  </thead>\n",
       "  <tbody>\n",
       "    <tr>\n",
       "      <th>Train</th>\n",
       "      <td>0.654943</td>\n",
       "      <td>0.817952</td>\n",
       "      <td>0.531235</td>\n",
       "      <td>0.862343</td>\n",
       "    </tr>\n",
       "    <tr>\n",
       "      <th>Test</th>\n",
       "      <td>0.229067</td>\n",
       "      <td>0.009650</td>\n",
       "      <td>0.041673</td>\n",
       "      <td>-0.140705</td>\n",
       "    </tr>\n",
       "  </tbody>\n",
       "</table>\n",
       "</div>"
      ],
      "text/plain": [
       "           X_FS  X_intuitive     X_new  X_original\n",
       "Train  0.654943     0.817952  0.531235    0.862343\n",
       "Test   0.229067     0.009650  0.041673   -0.140705"
      ]
     },
     "metadata": {},
     "output_type": "display_data"
    }
   ],
   "source": [
    "kNN_R_sq = pd.DataFrame({ 'X_FS' : R_sq_list[0],\n",
    "                        'X_intuitive' : R_sq_list[1],\n",
    "                        'X_new' : R_sq_list[2],\n",
    "                        'X_original' : R_sq_list[3]})\n",
    "kNN_R_adj = pd.DataFrame({ 'X_FS' : R_adj_list[0],\n",
    "                        'X_intuitive' : R_adj_list[1],\n",
    "                        'X_new' : R_adj_list[2],\n",
    "                        'X_original' : R_adj_list[3]})\n",
    "kNN_R_sq.index = ['Train', 'Test']\n",
    "kNN_R_adj.index = ['Train', 'Test']\n",
    "\n",
    "print(\"R-squared:\")\n",
    "display(kNN_R_sq)\n",
    "print(\"Adjusted R-squared:\")\n",
    "display(kNN_R_adj)"
   ]
  },
  {
   "cell_type": "markdown",
   "metadata": {},
   "source": [
    "### 3.4. Random Forest Regressor"
   ]
  },
  {
   "cell_type": "code",
   "execution_count": 150,
   "metadata": {},
   "outputs": [],
   "source": [
    "R_sq_list = []\n",
    "R_adj_list = []\n",
    "\n",
    "for Set in Sets:\n",
    "    # Model creation and fit\n",
    "    model3 = RandomForestRegressor(max_depth=3, criterion='mse', n_estimators=100)\n",
    "    model3.fit(Set[0],Set[1])\n",
    "\n",
    "    # model results of training set\n",
    "    y2_hat = model3.predict(Set[0])\n",
    "    mae = metrics.mean_absolute_error(Set[1],y2_hat)\n",
    "    mse = metrics.mean_squared_error(Set[1],y2_hat)\n",
    "    mse_allfeatures = mse\n",
    "\n",
    "    # model results of test set\n",
    "    y_hat_test = model3.predict(Set[2])\n",
    "    mae = metrics.mean_absolute_error(Set[3],y_hat_test)\n",
    "    mse = metrics.mean_squared_error(Set[3],y_hat_test)\n",
    "\n",
    "    # R-squared\n",
    "    R_sq_train = model3.score(Set[0],Set[1])\n",
    "    R_sq_test = model3.score(Set[2],Set[3])\n",
    "    R_adj_train = 1 - (1-R_sq_train)*(len(Set[1])-1)/(len(Set[1])-Set[0].shape[1]-1)\n",
    "    R_adj_test = 1 - (1-R_sq_test)*(len(Set[3])-1)/(len(Set[3])-Set[2].shape[1]-1)\n",
    "    \n",
    "    R_sq_list.append((R_sq_train, R_sq_test))\n",
    "    R_adj_list.append((R_adj_train, R_adj_test))"
   ]
  },
  {
   "cell_type": "code",
   "execution_count": 151,
   "metadata": {},
   "outputs": [
    {
     "name": "stdout",
     "output_type": "stream",
     "text": [
      "R-squared:\n"
     ]
    },
    {
     "data": {
      "text/html": [
       "<div>\n",
       "<style scoped>\n",
       "    .dataframe tbody tr th:only-of-type {\n",
       "        vertical-align: middle;\n",
       "    }\n",
       "\n",
       "    .dataframe tbody tr th {\n",
       "        vertical-align: top;\n",
       "    }\n",
       "\n",
       "    .dataframe thead th {\n",
       "        text-align: right;\n",
       "    }\n",
       "</style>\n",
       "<table border=\"1\" class=\"dataframe\">\n",
       "  <thead>\n",
       "    <tr style=\"text-align: right;\">\n",
       "      <th></th>\n",
       "      <th>X_FS</th>\n",
       "      <th>X_intuitive</th>\n",
       "      <th>X_new</th>\n",
       "      <th>X_original</th>\n",
       "    </tr>\n",
       "  </thead>\n",
       "  <tbody>\n",
       "    <tr>\n",
       "      <th>Train</th>\n",
       "      <td>0.332884</td>\n",
       "      <td>0.338836</td>\n",
       "      <td>0.232293</td>\n",
       "      <td>0.344863</td>\n",
       "    </tr>\n",
       "    <tr>\n",
       "      <th>Test</th>\n",
       "      <td>0.286433</td>\n",
       "      <td>0.276869</td>\n",
       "      <td>0.155322</td>\n",
       "      <td>0.277033</td>\n",
       "    </tr>\n",
       "  </tbody>\n",
       "</table>\n",
       "</div>"
      ],
      "text/plain": [
       "           X_FS  X_intuitive     X_new  X_original\n",
       "Train  0.332884     0.338836  0.232293    0.344863\n",
       "Test   0.286433     0.276869  0.155322    0.277033"
      ]
     },
     "metadata": {},
     "output_type": "display_data"
    },
    {
     "name": "stdout",
     "output_type": "stream",
     "text": [
      "Adjusted R-squared:\n"
     ]
    },
    {
     "data": {
      "text/html": [
       "<div>\n",
       "<style scoped>\n",
       "    .dataframe tbody tr th:only-of-type {\n",
       "        vertical-align: middle;\n",
       "    }\n",
       "\n",
       "    .dataframe tbody tr th {\n",
       "        vertical-align: top;\n",
       "    }\n",
       "\n",
       "    .dataframe thead th {\n",
       "        text-align: right;\n",
       "    }\n",
       "</style>\n",
       "<table border=\"1\" class=\"dataframe\">\n",
       "  <thead>\n",
       "    <tr style=\"text-align: right;\">\n",
       "      <th></th>\n",
       "      <th>X_FS</th>\n",
       "      <th>X_intuitive</th>\n",
       "      <th>X_new</th>\n",
       "      <th>X_original</th>\n",
       "    </tr>\n",
       "  </thead>\n",
       "  <tbody>\n",
       "    <tr>\n",
       "      <th>Train</th>\n",
       "      <td>0.329110</td>\n",
       "      <td>0.250681</td>\n",
       "      <td>0.185197</td>\n",
       "      <td>0.235804</td>\n",
       "    </tr>\n",
       "    <tr>\n",
       "      <th>Test</th>\n",
       "      <td>0.276942</td>\n",
       "      <td>0.003317</td>\n",
       "      <td>0.023668</td>\n",
       "      <td>-0.083804</td>\n",
       "    </tr>\n",
       "  </tbody>\n",
       "</table>\n",
       "</div>"
      ],
      "text/plain": [
       "           X_FS  X_intuitive     X_new  X_original\n",
       "Train  0.329110     0.250681  0.185197    0.235804\n",
       "Test   0.276942     0.003317  0.023668   -0.083804"
      ]
     },
     "metadata": {},
     "output_type": "display_data"
    }
   ],
   "source": [
    "rf_R_sq = pd.DataFrame({ 'X_FS' : R_sq_list[0],\n",
    "                        'X_intuitive' : R_sq_list[1],\n",
    "                        'X_new' : R_sq_list[2],\n",
    "                        'X_original' : R_sq_list[3]})\n",
    "rf_R_adj = pd.DataFrame({ 'X_FS' : R_adj_list[0],\n",
    "                        'X_intuitive' : R_adj_list[1],\n",
    "                        'X_new' : R_adj_list[2],\n",
    "                        'X_original' : R_adj_list[3]})\n",
    "rf_R_sq.index = ['Train', 'Test']\n",
    "rf_R_adj.index = ['Train', 'Test']\n",
    "\n",
    "print(\"R-squared:\")\n",
    "display(rf_R_sq)\n",
    "print(\"Adjusted R-squared:\")\n",
    "display(rf_R_adj)"
   ]
  },
  {
   "cell_type": "markdown",
   "metadata": {},
   "source": [
    "### 3.5. Summary of the results\n",
    "- Tables of R-squared and Adjusted R-squared on the **test set** of each dataset run on each model:"
   ]
  },
  {
   "cell_type": "code",
   "execution_count": 265,
   "metadata": {},
   "outputs": [
    {
     "name": "stdout",
     "output_type": "stream",
     "text": [
      "R-squared:\n"
     ]
    },
    {
     "data": {
      "text/html": [
       "<div>\n",
       "<style scoped>\n",
       "    .dataframe tbody tr th:only-of-type {\n",
       "        vertical-align: middle;\n",
       "    }\n",
       "\n",
       "    .dataframe tbody tr th {\n",
       "        vertical-align: top;\n",
       "    }\n",
       "\n",
       "    .dataframe thead th {\n",
       "        text-align: right;\n",
       "    }\n",
       "</style>\n",
       "<table border=\"1\" class=\"dataframe\">\n",
       "  <thead>\n",
       "    <tr style=\"text-align: right;\">\n",
       "      <th></th>\n",
       "      <th>X_FS</th>\n",
       "      <th>X_intuitive</th>\n",
       "      <th>X_new</th>\n",
       "      <th>X_original</th>\n",
       "    </tr>\n",
       "  </thead>\n",
       "  <tbody>\n",
       "    <tr>\n",
       "      <th>Ridge</th>\n",
       "      <td>0.204467</td>\n",
       "      <td>0.283249</td>\n",
       "      <td>0.250109</td>\n",
       "      <td>0.281544</td>\n",
       "    </tr>\n",
       "    <tr>\n",
       "      <th>kNN</th>\n",
       "      <td>0.239187</td>\n",
       "      <td>0.281465</td>\n",
       "      <td>0.170899</td>\n",
       "      <td>0.239076</td>\n",
       "    </tr>\n",
       "    <tr>\n",
       "      <th>Random Forest</th>\n",
       "      <td>0.286433</td>\n",
       "      <td>0.276869</td>\n",
       "      <td>0.155322</td>\n",
       "      <td>0.277033</td>\n",
       "    </tr>\n",
       "  </tbody>\n",
       "</table>\n",
       "</div>"
      ],
      "text/plain": [
       "                   X_FS  X_intuitive     X_new  X_original\n",
       "Ridge          0.204467     0.283249  0.250109    0.281544\n",
       "kNN            0.239187     0.281465  0.170899    0.239076\n",
       "Random Forest  0.286433     0.276869  0.155322    0.277033"
      ]
     },
     "metadata": {},
     "output_type": "display_data"
    },
    {
     "data": {
      "image/png": "[encoded data removed]",
      "text/plain": [
       "<Figure size 432x288 with 1 Axes>"
      ]
     },
     "metadata": {},
     "output_type": "display_data"
    },
    {
     "name": "stdout",
     "output_type": "stream",
     "text": [
      "Adjusted R-squared:\n"
     ]
    },
    {
     "data": {
      "text/html": [
       "<div>\n",
       "<style scoped>\n",
       "    .dataframe tbody tr th:only-of-type {\n",
       "        vertical-align: middle;\n",
       "    }\n",
       "\n",
       "    .dataframe tbody tr th {\n",
       "        vertical-align: top;\n",
       "    }\n",
       "\n",
       "    .dataframe thead th {\n",
       "        text-align: right;\n",
       "    }\n",
       "</style>\n",
       "<table border=\"1\" class=\"dataframe\">\n",
       "  <thead>\n",
       "    <tr style=\"text-align: right;\">\n",
       "      <th></th>\n",
       "      <th>X_FS</th>\n",
       "      <th>X_intuitive</th>\n",
       "      <th>X_new</th>\n",
       "      <th>X_original</th>\n",
       "    </tr>\n",
       "  </thead>\n",
       "  <tbody>\n",
       "    <tr>\n",
       "      <th>Ridge</th>\n",
       "      <td>0.193885</td>\n",
       "      <td>0.012110</td>\n",
       "      <td>0.133229</td>\n",
       "      <td>-0.077041</td>\n",
       "    </tr>\n",
       "    <tr>\n",
       "      <th>kNN</th>\n",
       "      <td>0.229067</td>\n",
       "      <td>0.009650</td>\n",
       "      <td>0.041673</td>\n",
       "      <td>-0.140705</td>\n",
       "    </tr>\n",
       "    <tr>\n",
       "      <th>Random Forest</th>\n",
       "      <td>0.276942</td>\n",
       "      <td>0.003317</td>\n",
       "      <td>0.023668</td>\n",
       "      <td>-0.083804</td>\n",
       "    </tr>\n",
       "  </tbody>\n",
       "</table>\n",
       "</div>"
      ],
      "text/plain": [
       "                   X_FS  X_intuitive     X_new  X_original\n",
       "Ridge          0.193885     0.012110  0.133229   -0.077041\n",
       "kNN            0.229067     0.009650  0.041673   -0.140705\n",
       "Random Forest  0.276942     0.003317  0.023668   -0.083804"
      ]
     },
     "metadata": {},
     "output_type": "display_data"
    },
    {
     "data": {
      "image/png": "[encoded data removed]",
      "text/plain": [
       "<Figure size 432x288 with 1 Axes>"
      ]
     },
     "metadata": {},
     "output_type": "display_data"
    }
   ],
   "source": [
    "R_sq_Table = pd.concat([ridge_R_sq[1:2], kNN_R_sq[1:2], rf_R_sq[1:2]], axis=0)\n",
    "R_sq_Table.reset_index(drop=True)\n",
    "R_sq_Table.index = ['Ridge', 'kNN', 'Random Forest']\n",
    "print(\"R-squared:\")\n",
    "display(R_sq_Table)\n",
    "ax = R_sq_Table.plot(title='R-squared on test set')\n",
    "ax.set(xlabel='Model', ylabel='R-squared')\n",
    "ax.set_xticklabels(R_sq_Table.index)\n",
    "ax.set_xticks(range(len(R_sq_Table.index)))\n",
    "plt.show()\n",
    "\n",
    "R_adj_Table = pd.concat([ridge_R_adj[1:2], kNN_R_adj[1:2], rf_R_adj[1:2]], axis=0)\n",
    "R_adj_Table.reset_index(drop=True)\n",
    "R_adj_Table.index = ['Ridge', 'kNN', 'Random Forest']\n",
    "print(\"Adjusted R-squared:\")\n",
    "display(R_adj_Table)\n",
    "ax = R_adj_Table.plot(title='Adjusted R-squared on test set')\n",
    "ax.set(xlabel='Model', ylabel='Adjusted R-squared')\n",
    "ax.set_xticklabels(R_adj_Table.index)\n",
    "ax.set_xticks(range(len(R_adj_Table.index)))\n",
    "plt.show()"
   ]
  },
  {
   "cell_type": "markdown",
   "metadata": {},
   "source": [
    "## 4. Conclusion"
   ]
  },
  {
   "cell_type": "markdown",
   "metadata": {},
   "source": [
    "- Meta estimator such as randomforestRegressor are more efficient and accurate than simple regressor models. With a R² about 30%, relatively ahead of linear regression models for cost prediction of pipeline accident."
   ]
  },
  {
   "cell_type": "markdown",
   "metadata": {},
   "source": [
    "- From the above table, we can confirm that our Feature Selection based on Variable Importance (MSE) works well and efficient as it give stable and better results in both R-squared and adjusted R-squared than other datasets (X_intuitive, X_new or X_original). This means that it could obtain better, or at least the same level of accuracy of, prediction using much smaller number (8, or 19 after the One-Hot encoding) of explanatory variables than other datasets (+100-200 explanatory variables/columns)."
   ]
  },
  {
   "cell_type": "markdown",
   "metadata": {},
   "source": [
    "- To conclude on overfitting (we can make comments on overfitting at each model where train set result is included, and summarize the comments here in Coclusion)."
   ]
  },
  {
   "cell_type": "markdown",
   "metadata": {},
   "source": [
    "- Our analysis permits to better understand the nature and causes of pipeline incidents in the USA over the past years. Statistically, the number of accidents remains stable year on year on the period, so do amount of total cost per accident in average. Material and equipment failures are by far the main cause of accident, followed by corrosion and then by human incorrect operation. Underground pipeline type rank second in number of accident but rank first in terms of cost (intervention costs probably). Emergency Response Costs and Environmental remediation costs are the sizable nature of costs in general. The nature of the commodity transported (ignit or explosive) has no impact on cost amount.\n",
    "\n",
    "- Measuring accuracy of models with R², meta estimator such as randomforestRegressor are more efficient and accurate than a simple regressor model.\n",
    "\n",
    "- From the above table, we can confirm that our Feature Selection based on Variable Importance (MSE) works well as it give stable and better results in both R-squared and adjusted R-squared than other datasets (X_intuitive, X_new or X_original). This means that it could obtain better, or at least the same level of accuracy of, prediction using much smaller number (8, or 19 after the One-Hot encoding) of explanatory variables than other datasets (+100-200 explanatory variables/columns).\n",
    "\n",
    "- Therefore, we recommend the random forest regressor based on the PCA methods of features selection to estimate the cost of an accident."
   ]
  }
 ],
 "metadata": {
  "kernelspec": {
   "display_name": "Python 3",
   "language": "python",
   "name": "python3"
  },
  "language_info": {
   "codemirror_mode": {
    "name": "ipython",
    "version": 3
   },
   "file_extension": ".py",
   "mimetype": "text/x-python",
   "name": "python",
   "nbconvert_exporter": "python",
   "pygments_lexer": "ipython3",
   "version": "3.6.6"
  }
 },
 "nbformat": 4,
 "nbformat_minor": 2
}
